{
  "nbformat": 4,
  "nbformat_minor": 0,
  "metadata": {
    "kernelspec": {
      "name": "python3",
      "display_name": "Python 3"
    },
    "language_info": {
      "codemirror_mode": {
        "name": "ipython",
        "version": 3
      },
      "file_extension": ".py",
      "mimetype": "text/x-python",
      "name": "python",
      "nbconvert_exporter": "python",
      "pygments_lexer": "ipython3",
      "version": "3.5.7"
    },
    "colab": {
      "name": "DQN_project_MVA_ipynp.ipynb",
      "provenance": [],
      "collapsed_sections": [
        "sE_cX8zkQ5YS",
        "6jNwHyMYEWs7",
        "sBGETw1uSIfO",
        "tJkM2_nvSQQ_",
        "Ec-F3-GEPEjR",
        "ni6p-iAbDdsC",
        "uIwx5TztDfFB",
        "uNlOXUxTNkvW",
        "f32IBV-kQ5ZG"
      ]
    },
    "accelerator": "GPU"
  },
  "cells": [
    {
      "cell_type": "markdown",
      "metadata": {
        "id": "hwbk5a_vQ5X3",
        "colab_type": "text"
      },
      "source": [
        "**You may need to install [OpenCV](https://pypi.python.org/pypi/opencv-python) and [scikit-video](http://www.scikit-video.org/stable/).**"
      ]
    },
    {
      "cell_type": "code",
      "metadata": {
        "id": "eQxLDwSf2c2R",
        "colab_type": "code",
        "outputId": "8e32164d-62d8-4481-8c8f-8346d8516e79",
        "colab": {
          "base_uri": "https://localhost:8080/",
          "height": 194
        }
      },
      "source": [
        "!pip install scikit-video\n",
        "!pip install opencv-python"
      ],
      "execution_count": 1,
      "outputs": [
        {
          "output_type": "stream",
          "text": [
            "Collecting scikit-video\n",
            "\u001b[?25l  Downloading https://files.pythonhosted.org/packages/b1/a6/c69cad508139a342810ae46e946ebb3256aa6e42f690d901bb68f50582e3/scikit_video-1.1.11-py2.py3-none-any.whl (2.3MB)\n",
            "\r\u001b[K     |▏                               | 10kB 15.9MB/s eta 0:00:01\r\u001b[K     |▎                               | 20kB 22.4MB/s eta 0:00:01\r\u001b[K     |▍                               | 30kB 27.6MB/s eta 0:00:01\r\u001b[K     |▋                               | 40kB 31.6MB/s eta 0:00:01\r\u001b[K     |▊                               | 51kB 29.1MB/s eta 0:00:01\r\u001b[K     |▉                               | 61kB 30.1MB/s eta 0:00:01\r\u001b[K     |█                               | 71kB 24.5MB/s eta 0:00:01\r\u001b[K     |█▏                              | 81kB 26.0MB/s eta 0:00:01\r\u001b[K     |█▎                              | 92kB 27.9MB/s eta 0:00:01\r\u001b[K     |█▌                              | 102kB 25.4MB/s eta 0:00:01\r\u001b[K     |█▋                              | 112kB 25.4MB/s eta 0:00:01\r\u001b[K     |█▊                              | 122kB 25.4MB/s eta 0:00:01\r\u001b[K     |██                              | 133kB 25.4MB/s eta 0:00:01\r\u001b[K     |██                              | 143kB 25.4MB/s eta 0:00:01\r\u001b[K     |██▏                             | 153kB 25.4MB/s eta 0:00:01\r\u001b[K     |██▎                             | 163kB 25.4MB/s eta 0:00:01\r\u001b[K     |██▌                             | 174kB 25.4MB/s eta 0:00:01\r\u001b[K     |██▋                             | 184kB 25.4MB/s eta 0:00:01\r\u001b[K     |██▊                             | 194kB 25.4MB/s eta 0:00:01\r\u001b[K     |███                             | 204kB 25.4MB/s eta 0:00:01\r\u001b[K     |███                             | 215kB 25.4MB/s eta 0:00:01\r\u001b[K     |███▏                            | 225kB 25.4MB/s eta 0:00:01\r\u001b[K     |███▍                            | 235kB 25.4MB/s eta 0:00:01\r\u001b[K     |███▌                            | 245kB 25.4MB/s eta 0:00:01\r\u001b[K     |███▋                            | 256kB 25.4MB/s eta 0:00:01\r\u001b[K     |███▉                            | 266kB 25.4MB/s eta 0:00:01\r\u001b[K     |████                            | 276kB 25.4MB/s eta 0:00:01\r\u001b[K     |████                            | 286kB 25.4MB/s eta 0:00:01\r\u001b[K     |████▏                           | 296kB 25.4MB/s eta 0:00:01\r\u001b[K     |████▍                           | 307kB 25.4MB/s eta 0:00:01\r\u001b[K     |████▌                           | 317kB 25.4MB/s eta 0:00:01\r\u001b[K     |████▋                           | 327kB 25.4MB/s eta 0:00:01\r\u001b[K     |████▉                           | 337kB 25.4MB/s eta 0:00:01\r\u001b[K     |█████                           | 348kB 25.4MB/s eta 0:00:01\r\u001b[K     |█████                           | 358kB 25.4MB/s eta 0:00:01\r\u001b[K     |█████▎                          | 368kB 25.4MB/s eta 0:00:01\r\u001b[K     |█████▍                          | 378kB 25.4MB/s eta 0:00:01\r\u001b[K     |█████▌                          | 389kB 25.4MB/s eta 0:00:01\r\u001b[K     |█████▊                          | 399kB 25.4MB/s eta 0:00:01\r\u001b[K     |█████▉                          | 409kB 25.4MB/s eta 0:00:01\r\u001b[K     |██████                          | 419kB 25.4MB/s eta 0:00:01\r\u001b[K     |██████                          | 430kB 25.4MB/s eta 0:00:01\r\u001b[K     |██████▎                         | 440kB 25.4MB/s eta 0:00:01\r\u001b[K     |██████▍                         | 450kB 25.4MB/s eta 0:00:01\r\u001b[K     |██████▌                         | 460kB 25.4MB/s eta 0:00:01\r\u001b[K     |██████▊                         | 471kB 25.4MB/s eta 0:00:01\r\u001b[K     |██████▉                         | 481kB 25.4MB/s eta 0:00:01\r\u001b[K     |███████                         | 491kB 25.4MB/s eta 0:00:01\r\u001b[K     |███████▏                        | 501kB 25.4MB/s eta 0:00:01\r\u001b[K     |███████▎                        | 512kB 25.4MB/s eta 0:00:01\r\u001b[K     |███████▍                        | 522kB 25.4MB/s eta 0:00:01\r\u001b[K     |███████▋                        | 532kB 25.4MB/s eta 0:00:01\r\u001b[K     |███████▊                        | 542kB 25.4MB/s eta 0:00:01\r\u001b[K     |███████▉                        | 552kB 25.4MB/s eta 0:00:01\r\u001b[K     |████████                        | 563kB 25.4MB/s eta 0:00:01\r\u001b[K     |████████▏                       | 573kB 25.4MB/s eta 0:00:01\r\u001b[K     |████████▎                       | 583kB 25.4MB/s eta 0:00:01\r\u001b[K     |████████▍                       | 593kB 25.4MB/s eta 0:00:01\r\u001b[K     |████████▋                       | 604kB 25.4MB/s eta 0:00:01\r\u001b[K     |████████▊                       | 614kB 25.4MB/s eta 0:00:01\r\u001b[K     |████████▉                       | 624kB 25.4MB/s eta 0:00:01\r\u001b[K     |█████████                       | 634kB 25.4MB/s eta 0:00:01\r\u001b[K     |█████████▏                      | 645kB 25.4MB/s eta 0:00:01\r\u001b[K     |█████████▎                      | 655kB 25.4MB/s eta 0:00:01\r\u001b[K     |█████████▌                      | 665kB 25.4MB/s eta 0:00:01\r\u001b[K     |█████████▋                      | 675kB 25.4MB/s eta 0:00:01\r\u001b[K     |█████████▊                      | 686kB 25.4MB/s eta 0:00:01\r\u001b[K     |█████████▉                      | 696kB 25.4MB/s eta 0:00:01\r\u001b[K     |██████████                      | 706kB 25.4MB/s eta 0:00:01\r\u001b[K     |██████████▏                     | 716kB 25.4MB/s eta 0:00:01\r\u001b[K     |██████████▎                     | 727kB 25.4MB/s eta 0:00:01\r\u001b[K     |██████████▌                     | 737kB 25.4MB/s eta 0:00:01\r\u001b[K     |██████████▋                     | 747kB 25.4MB/s eta 0:00:01\r\u001b[K     |██████████▊                     | 757kB 25.4MB/s eta 0:00:01\r\u001b[K     |███████████                     | 768kB 25.4MB/s eta 0:00:01\r\u001b[K     |███████████                     | 778kB 25.4MB/s eta 0:00:01\r\u001b[K     |███████████▏                    | 788kB 25.4MB/s eta 0:00:01\r\u001b[K     |███████████▍                    | 798kB 25.4MB/s eta 0:00:01\r\u001b[K     |███████████▌                    | 808kB 25.4MB/s eta 0:00:01\r\u001b[K     |███████████▋                    | 819kB 25.4MB/s eta 0:00:01\r\u001b[K     |███████████▊                    | 829kB 25.4MB/s eta 0:00:01\r\u001b[K     |████████████                    | 839kB 25.4MB/s eta 0:00:01\r\u001b[K     |████████████                    | 849kB 25.4MB/s eta 0:00:01\r\u001b[K     |████████████▏                   | 860kB 25.4MB/s eta 0:00:01\r\u001b[K     |████████████▍                   | 870kB 25.4MB/s eta 0:00:01\r\u001b[K     |████████████▌                   | 880kB 25.4MB/s eta 0:00:01\r\u001b[K     |████████████▋                   | 890kB 25.4MB/s eta 0:00:01\r\u001b[K     |████████████▉                   | 901kB 25.4MB/s eta 0:00:01\r\u001b[K     |█████████████                   | 911kB 25.4MB/s eta 0:00:01\r\u001b[K     |█████████████                   | 921kB 25.4MB/s eta 0:00:01\r\u001b[K     |█████████████▎                  | 931kB 25.4MB/s eta 0:00:01\r\u001b[K     |█████████████▍                  | 942kB 25.4MB/s eta 0:00:01\r\u001b[K     |█████████████▌                  | 952kB 25.4MB/s eta 0:00:01\r\u001b[K     |█████████████▋                  | 962kB 25.4MB/s eta 0:00:01\r\u001b[K     |█████████████▉                  | 972kB 25.4MB/s eta 0:00:01\r\u001b[K     |██████████████                  | 983kB 25.4MB/s eta 0:00:01\r\u001b[K     |██████████████                  | 993kB 25.4MB/s eta 0:00:01\r\u001b[K     |██████████████▎                 | 1.0MB 25.4MB/s eta 0:00:01\r\u001b[K     |██████████████▍                 | 1.0MB 25.4MB/s eta 0:00:01\r\u001b[K     |██████████████▌                 | 1.0MB 25.4MB/s eta 0:00:01\r\u001b[K     |██████████████▊                 | 1.0MB 25.4MB/s eta 0:00:01\r\u001b[K     |██████████████▉                 | 1.0MB 25.4MB/s eta 0:00:01\r\u001b[K     |███████████████                 | 1.1MB 25.4MB/s eta 0:00:01\r\u001b[K     |███████████████▏                | 1.1MB 25.4MB/s eta 0:00:01\r\u001b[K     |███████████████▎                | 1.1MB 25.4MB/s eta 0:00:01\r\u001b[K     |███████████████▍                | 1.1MB 25.4MB/s eta 0:00:01\r\u001b[K     |███████████████▌                | 1.1MB 25.4MB/s eta 0:00:01\r\u001b[K     |███████████████▊                | 1.1MB 25.4MB/s eta 0:00:01\r\u001b[K     |███████████████▉                | 1.1MB 25.4MB/s eta 0:00:01\r\u001b[K     |████████████████                | 1.1MB 25.4MB/s eta 0:00:01\r\u001b[K     |████████████████▏               | 1.1MB 25.4MB/s eta 0:00:01\r\u001b[K     |████████████████▎               | 1.1MB 25.4MB/s eta 0:00:01\r\u001b[K     |████████████████▍               | 1.2MB 25.4MB/s eta 0:00:01\r\u001b[K     |████████████████▋               | 1.2MB 25.4MB/s eta 0:00:01\r\u001b[K     |████████████████▊               | 1.2MB 25.4MB/s eta 0:00:01\r\u001b[K     |████████████████▉               | 1.2MB 25.4MB/s eta 0:00:01\r\u001b[K     |█████████████████               | 1.2MB 25.4MB/s eta 0:00:01\r\u001b[K     |█████████████████▏              | 1.2MB 25.4MB/s eta 0:00:01\r\u001b[K     |█████████████████▎              | 1.2MB 25.4MB/s eta 0:00:01\r\u001b[K     |█████████████████▍              | 1.2MB 25.4MB/s eta 0:00:01\r\u001b[K     |█████████████████▋              | 1.2MB 25.4MB/s eta 0:00:01\r\u001b[K     |█████████████████▊              | 1.2MB 25.4MB/s eta 0:00:01\r\u001b[K     |█████████████████▉              | 1.3MB 25.4MB/s eta 0:00:01\r\u001b[K     |██████████████████              | 1.3MB 25.4MB/s eta 0:00:01\r\u001b[K     |██████████████████▏             | 1.3MB 25.4MB/s eta 0:00:01\r\u001b[K     |██████████████████▎             | 1.3MB 25.4MB/s eta 0:00:01\r\u001b[K     |██████████████████▌             | 1.3MB 25.4MB/s eta 0:00:01\r\u001b[K     |██████████████████▋             | 1.3MB 25.4MB/s eta 0:00:01\r\u001b[K     |██████████████████▊             | 1.3MB 25.4MB/s eta 0:00:01\r\u001b[K     |███████████████████             | 1.3MB 25.4MB/s eta 0:00:01\r\u001b[K     |███████████████████             | 1.3MB 25.4MB/s eta 0:00:01\r\u001b[K     |███████████████████▏            | 1.4MB 25.4MB/s eta 0:00:01\r\u001b[K     |███████████████████▎            | 1.4MB 25.4MB/s eta 0:00:01\r\u001b[K     |███████████████████▌            | 1.4MB 25.4MB/s eta 0:00:01\r\u001b[K     |███████████████████▋            | 1.4MB 25.4MB/s eta 0:00:01\r\u001b[K     |███████████████████▊            | 1.4MB 25.4MB/s eta 0:00:01\r\u001b[K     |████████████████████            | 1.4MB 25.4MB/s eta 0:00:01\r\u001b[K     |████████████████████            | 1.4MB 25.4MB/s eta 0:00:01\r\u001b[K     |████████████████████▏           | 1.4MB 25.4MB/s eta 0:00:01\r\u001b[K     |████████████████████▍           | 1.4MB 25.4MB/s eta 0:00:01\r\u001b[K     |████████████████████▌           | 1.4MB 25.4MB/s eta 0:00:01\r\u001b[K     |████████████████████▋           | 1.5MB 25.4MB/s eta 0:00:01\r\u001b[K     |████████████████████▉           | 1.5MB 25.4MB/s eta 0:00:01\r\u001b[K     |█████████████████████           | 1.5MB 25.4MB/s eta 0:00:01\r\u001b[K     |█████████████████████           | 1.5MB 25.4MB/s eta 0:00:01\r\u001b[K     |█████████████████████▏          | 1.5MB 25.4MB/s eta 0:00:01\r\u001b[K     |█████████████████████▍          | 1.5MB 25.4MB/s eta 0:00:01\r\u001b[K     |█████████████████████▌          | 1.5MB 25.4MB/s eta 0:00:01\r\u001b[K     |█████████████████████▋          | 1.5MB 25.4MB/s eta 0:00:01\r\u001b[K     |█████████████████████▉          | 1.5MB 25.4MB/s eta 0:00:01\r\u001b[K     |██████████████████████          | 1.5MB 25.4MB/s eta 0:00:01\r\u001b[K     |██████████████████████          | 1.6MB 25.4MB/s eta 0:00:01\r\u001b[K     |██████████████████████▎         | 1.6MB 25.4MB/s eta 0:00:01\r\u001b[K     |██████████████████████▍         | 1.6MB 25.4MB/s eta 0:00:01\r\u001b[K     |██████████████████████▌         | 1.6MB 25.4MB/s eta 0:00:01\r\u001b[K     |██████████████████████▊         | 1.6MB 25.4MB/s eta 0:00:01\r\u001b[K     |██████████████████████▉         | 1.6MB 25.4MB/s eta 0:00:01\r\u001b[K     |███████████████████████         | 1.6MB 25.4MB/s eta 0:00:01\r\u001b[K     |███████████████████████         | 1.6MB 25.4MB/s eta 0:00:01\r\u001b[K     |███████████████████████▎        | 1.6MB 25.4MB/s eta 0:00:01\r\u001b[K     |███████████████████████▍        | 1.6MB 25.4MB/s eta 0:00:01\r\u001b[K     |███████████████████████▌        | 1.7MB 25.4MB/s eta 0:00:01\r\u001b[K     |███████████████████████▊        | 1.7MB 25.4MB/s eta 0:00:01\r\u001b[K     |███████████████████████▉        | 1.7MB 25.4MB/s eta 0:00:01\r\u001b[K     |████████████████████████        | 1.7MB 25.4MB/s eta 0:00:01\r\u001b[K     |████████████████████████▏       | 1.7MB 25.4MB/s eta 0:00:01\r\u001b[K     |████████████████████████▎       | 1.7MB 25.4MB/s eta 0:00:01\r\u001b[K     |████████████████████████▍       | 1.7MB 25.4MB/s eta 0:00:01\r\u001b[K     |████████████████████████▋       | 1.7MB 25.4MB/s eta 0:00:01\r\u001b[K     |████████████████████████▊       | 1.7MB 25.4MB/s eta 0:00:01\r\u001b[K     |████████████████████████▉       | 1.8MB 25.4MB/s eta 0:00:01\r\u001b[K     |█████████████████████████       | 1.8MB 25.4MB/s eta 0:00:01\r\u001b[K     |█████████████████████████▏      | 1.8MB 25.4MB/s eta 0:00:01\r\u001b[K     |█████████████████████████▎      | 1.8MB 25.4MB/s eta 0:00:01\r\u001b[K     |█████████████████████████▍      | 1.8MB 25.4MB/s eta 0:00:01\r\u001b[K     |█████████████████████████▋      | 1.8MB 25.4MB/s eta 0:00:01\r\u001b[K     |█████████████████████████▊      | 1.8MB 25.4MB/s eta 0:00:01\r\u001b[K     |█████████████████████████▉      | 1.8MB 25.4MB/s eta 0:00:01\r\u001b[K     |██████████████████████████      | 1.8MB 25.4MB/s eta 0:00:01\r\u001b[K     |██████████████████████████▏     | 1.8MB 25.4MB/s eta 0:00:01\r\u001b[K     |██████████████████████████▎     | 1.9MB 25.4MB/s eta 0:00:01\r\u001b[K     |██████████████████████████▌     | 1.9MB 25.4MB/s eta 0:00:01\r\u001b[K     |██████████████████████████▋     | 1.9MB 25.4MB/s eta 0:00:01\r\u001b[K     |██████████████████████████▊     | 1.9MB 25.4MB/s eta 0:00:01\r\u001b[K     |██████████████████████████▉     | 1.9MB 25.4MB/s eta 0:00:01\r\u001b[K     |███████████████████████████     | 1.9MB 25.4MB/s eta 0:00:01\r\u001b[K     |███████████████████████████▏    | 1.9MB 25.4MB/s eta 0:00:01\r\u001b[K     |███████████████████████████▎    | 1.9MB 25.4MB/s eta 0:00:01\r\u001b[K     |███████████████████████████▌    | 1.9MB 25.4MB/s eta 0:00:01\r\u001b[K     |███████████████████████████▋    | 1.9MB 25.4MB/s eta 0:00:01\r\u001b[K     |███████████████████████████▊    | 2.0MB 25.4MB/s eta 0:00:01\r\u001b[K     |████████████████████████████    | 2.0MB 25.4MB/s eta 0:00:01\r\u001b[K     |████████████████████████████    | 2.0MB 25.4MB/s eta 0:00:01\r\u001b[K     |████████████████████████████▏   | 2.0MB 25.4MB/s eta 0:00:01\r\u001b[K     |████████████████████████████▍   | 2.0MB 25.4MB/s eta 0:00:01\r\u001b[K     |████████████████████████████▌   | 2.0MB 25.4MB/s eta 0:00:01\r\u001b[K     |████████████████████████████▋   | 2.0MB 25.4MB/s eta 0:00:01\r\u001b[K     |████████████████████████████▊   | 2.0MB 25.4MB/s eta 0:00:01\r\u001b[K     |█████████████████████████████   | 2.0MB 25.4MB/s eta 0:00:01\r\u001b[K     |█████████████████████████████   | 2.0MB 25.4MB/s eta 0:00:01\r\u001b[K     |█████████████████████████████▏  | 2.1MB 25.4MB/s eta 0:00:01\r\u001b[K     |█████████████████████████████▍  | 2.1MB 25.4MB/s eta 0:00:01\r\u001b[K     |█████████████████████████████▌  | 2.1MB 25.4MB/s eta 0:00:01\r\u001b[K     |█████████████████████████████▋  | 2.1MB 25.4MB/s eta 0:00:01\r\u001b[K     |█████████████████████████████▉  | 2.1MB 25.4MB/s eta 0:00:01\r\u001b[K     |██████████████████████████████  | 2.1MB 25.4MB/s eta 0:00:01\r\u001b[K     |██████████████████████████████  | 2.1MB 25.4MB/s eta 0:00:01\r\u001b[K     |██████████████████████████████▎ | 2.1MB 25.4MB/s eta 0:00:01\r\u001b[K     |██████████████████████████████▍ | 2.1MB 25.4MB/s eta 0:00:01\r\u001b[K     |██████████████████████████████▌ | 2.2MB 25.4MB/s eta 0:00:01\r\u001b[K     |██████████████████████████████▋ | 2.2MB 25.4MB/s eta 0:00:01\r\u001b[K     |██████████████████████████████▉ | 2.2MB 25.4MB/s eta 0:00:01\r\u001b[K     |███████████████████████████████ | 2.2MB 25.4MB/s eta 0:00:01\r\u001b[K     |███████████████████████████████ | 2.2MB 25.4MB/s eta 0:00:01\r\u001b[K     |███████████████████████████████▎| 2.2MB 25.4MB/s eta 0:00:01\r\u001b[K     |███████████████████████████████▍| 2.2MB 25.4MB/s eta 0:00:01\r\u001b[K     |███████████████████████████████▌| 2.2MB 25.4MB/s eta 0:00:01\r\u001b[K     |███████████████████████████████▊| 2.2MB 25.4MB/s eta 0:00:01\r\u001b[K     |███████████████████████████████▉| 2.2MB 25.4MB/s eta 0:00:01\r\u001b[K     |████████████████████████████████| 2.3MB 25.4MB/s eta 0:00:01\r\u001b[K     |████████████████████████████████| 2.3MB 25.4MB/s \n",
            "\u001b[?25hRequirement already satisfied: pillow in /usr/local/lib/python3.6/dist-packages (from scikit-video) (6.2.2)\n",
            "Requirement already satisfied: numpy in /usr/local/lib/python3.6/dist-packages (from scikit-video) (1.17.5)\n",
            "Requirement already satisfied: scipy in /usr/local/lib/python3.6/dist-packages (from scikit-video) (1.4.1)\n",
            "Installing collected packages: scikit-video\n",
            "Successfully installed scikit-video-1.1.11\n",
            "Requirement already satisfied: opencv-python in /usr/local/lib/python3.6/dist-packages (4.1.2.30)\n",
            "Requirement already satisfied: numpy>=1.11.3 in /usr/local/lib/python3.6/dist-packages (from opencv-python) (1.17.5)\n"
          ],
          "name": "stdout"
        }
      ]
    },
    {
      "cell_type": "code",
      "metadata": {
        "id": "SGgqp5KsQ5X8",
        "colab_type": "code",
        "outputId": "67f2d023-cd77-4249-9b5c-2e0776ba7aca",
        "colab": {
          "base_uri": "https://localhost:8080/",
          "height": 81
        }
      },
      "source": [
        "import keras\n",
        "import numpy as np\n",
        "import io\n",
        "import base64\n",
        "from IPython.display import HTML\n",
        "import skvideo.io\n",
        "import cv2\n",
        "import json\n",
        "\n",
        "from keras.models import Sequential,model_from_json\n",
        "from keras.layers.core import Dense, Flatten\n",
        "from keras.optimizers import sgd, Adam\n",
        "from keras.layers import Conv2D, MaxPooling2D, Activation, AveragePooling2D,Reshape,BatchNormalization\n",
        "\n",
        "# A enlever\n",
        "import matplotlib.pyplot as plt\n",
        "import matplotlib\n",
        "matplotlib.rcParams['figure.figsize'] = [15,7]\n"
      ],
      "execution_count": 2,
      "outputs": [
        {
          "output_type": "stream",
          "text": [
            "Using TensorFlow backend.\n"
          ],
          "name": "stderr"
        },
        {
          "output_type": "display_data",
          "data": {
            "text/html": [
              "<p style=\"color: red;\">\n",
              "The default version of TensorFlow in Colab will soon switch to TensorFlow 2.x.<br>\n",
              "We recommend you <a href=\"https://www.tensorflow.org/guide/migrate\" target=\"_blank\">upgrade</a> now \n",
              "or ensure your notebook will continue to use TensorFlow 1.x via the <code>%tensorflow_version 1.x</code> magic:\n",
              "<a href=\"https://colab.research.google.com/notebooks/tensorflow_version.ipynb\" target=\"_blank\">more info</a>.</p>\n"
            ],
            "text/plain": [
              "<IPython.core.display.HTML object>"
            ]
          },
          "metadata": {
            "tags": []
          }
        }
      ]
    },
    {
      "cell_type": "markdown",
      "metadata": {
        "id": "spkrcmWXQ5YA",
        "colab_type": "text"
      },
      "source": [
        "# MiniProject on Deep Reinforcement Learning"
      ]
    },
    {
      "cell_type": "markdown",
      "metadata": {
        "id": "6f-7ChgjQ5YA",
        "colab_type": "text"
      },
      "source": [
        "__Notations__: $E_p$ is the expectation under probability $p$. Please justify each of your answer and widely comment your code."
      ]
    },
    {
      "cell_type": "markdown",
      "metadata": {
        "id": "94Zd1L_RQ5YB",
        "colab_type": "text"
      },
      "source": [
        "# Context"
      ]
    },
    {
      "cell_type": "markdown",
      "metadata": {
        "id": "k9Xorm47Q5YC",
        "colab_type": "text"
      },
      "source": [
        "In a reinforcement learning algorithm, we modelize each step $t$ as an action $a_t$ obtained from a state $s_t$, i.e. $\\{(a_{t},s_{t})_{t\\leq T}\\}$ having the Markov property. We consider a discount factor $\\gamma \\in [0,1]$ that ensures convergence. The goal is to find among all the policies $\\pi$, one that maximizes the expected reward:\n",
        "\n",
        "\\begin{equation*}\n",
        "R(\\pi)=\\sum_{t\\leq T}E_{p^{\\pi}}[\\gamma^t r(s_{t},a_{t})] \\> ,\n",
        "\\end{equation*}\n",
        "\n",
        "where: \n",
        "\\begin{equation*}p^{\\pi}(a_{0},a_{1},s_{1},...,a_{T},s_{T})=p(a_{0})\\prod_{t=1}^{T}\\pi(a_{t}|s_{t})p(s_{t+1}|s_{t},a_{t}) \\> .\n",
        "\\end{equation*}\n",
        "\n",
        "We note the $Q$-function:\n",
        "\n",
        "\\begin{equation*}Q^\\pi(s,a)=E_{p^{\\pi}}[\\sum_{t\\leq T}\\gamma^{t}r(s_{t},a_{t})|s_{0}=s,a_{0}=a] \\> .\n",
        "\\end{equation*}\n",
        "\n",
        "Thus, the optimal Q function is:\n",
        "\\begin{equation*}\n",
        "Q^*(s,a)=\\max_{\\pi}Q^\\pi(s,a) \\> .\n",
        "\\end{equation*}\n",
        "\n",
        "In this project, we will apply the deep reinforcement learning techniques to a simple game: an agent will have to learn from scratch a policy that will permit it maximizing a reward."
      ]
    },
    {
      "cell_type": "markdown",
      "metadata": {
        "id": "Nf1k1DEOQ5YD",
        "colab_type": "text"
      },
      "source": [
        "## The environment, the agent and the game"
      ]
    },
    {
      "cell_type": "markdown",
      "metadata": {
        "id": "lOvsQHVrQ5YE",
        "colab_type": "text"
      },
      "source": [
        "### The environment"
      ]
    },
    {
      "cell_type": "markdown",
      "metadata": {
        "id": "Df29fW5UQ5YE",
        "colab_type": "text"
      },
      "source": [
        "```Environment``` is an abstract class that represents the states, rewards, and actions to obtain the new state."
      ]
    },
    {
      "cell_type": "code",
      "metadata": {
        "id": "hm0rSDlJQ5YF",
        "colab_type": "code",
        "colab": {}
      },
      "source": [
        "class Environment(object):\n",
        "    def __init__(self):\n",
        "        pass\n",
        "\n",
        "    def act(self, act):\n",
        "        \"\"\"\n",
        "        One can act on the environment and obtain its reaction:\n",
        "        - the new state\n",
        "        - the reward of the new state\n",
        "        - should we continue the game?\n",
        "\n",
        "        :return: state, reward, game_over\n",
        "        \"\"\"\n",
        "        pass\n",
        "\n",
        "\n",
        "    def reset(self):\n",
        "        \"\"\"\n",
        "        Reinitialize the environment to a random state and returns\n",
        "        the original state\n",
        "\n",
        "        :return: state\n",
        "        \"\"\"\n",
        "        pass\n",
        "    \n",
        "    def draw(self):\n",
        "        \"\"\"\n",
        "        Visualize in the console or graphically the current state\n",
        "        \"\"\"\n",
        "        pass"
      ],
      "execution_count": 0,
      "outputs": []
    },
    {
      "cell_type": "markdown",
      "metadata": {
        "id": "LODPVgLpQ5YH",
        "colab_type": "text"
      },
      "source": [
        "The method ```act``` allows to act on the environment at a given state $s_t$ (stored internally), via action $a_t$. The method will return the new state $s_{t+1}$, the reward $r(s_{t},a_{t})$ and determines if $t\\leq T$ (*game_over*).\n",
        "\n",
        "The method ```reset``` simply reinitializes the environment to a random state $s_0$.\n",
        "\n",
        "The method ```draw``` displays the current state $s_t$ (this is useful to check the behavior of the Agent).\n",
        "\n",
        "We modelize $s_t$ as a tensor, while $a_t$ is an integer."
      ]
    },
    {
      "cell_type": "markdown",
      "metadata": {
        "id": "HMnOBNwkQ5YI",
        "colab_type": "text"
      },
      "source": [
        "### The Agent"
      ]
    },
    {
      "cell_type": "markdown",
      "metadata": {
        "id": "0gRVI9ySQ5YL",
        "colab_type": "text"
      },
      "source": [
        "The goal of the ```Agent``` is to interact with the ```Environment``` by proposing actions $a_t$ obtained from a given state $s_t$ to attempt to maximize its __reward__ $r(s_t,a_t)$. We propose the following abstract class:"
      ]
    },
    {
      "cell_type": "code",
      "metadata": {
        "id": "InjWL64QQ5YN",
        "colab_type": "code",
        "colab": {}
      },
      "source": [
        "class Agent(object):\n",
        "    def __init__(self, epsilon=0.1, n_action=4):\n",
        "        self.epsilon = epsilon\n",
        "        self.n_action = n_action\n",
        "    \n",
        "    def set_epsilon(self,e):\n",
        "        self.epsilon = e\n",
        "\n",
        "    def act(self,s,train=True):\n",
        "        \"\"\" This function should return the next action to do:\n",
        "        an integer between 0 and 4 (not included) with a random exploration of epsilon\"\"\"\n",
        "        if train:\n",
        "            if np.random.rand() <= self.epsilon:\n",
        "                a = np.random.randint(0, self.n_action, size=1)[0]\n",
        "            else:\n",
        "                a = self.learned_act(s)\n",
        "        else: # in some cases, this can improve the performance.. remove it if poor performances\n",
        "            a = self.learned_act(s)\n",
        "\n",
        "        return a\n",
        "\n",
        "    def learned_act(self,s):\n",
        "        \"\"\" Act via the policy of the agent, from a given state s\n",
        "        it proposes an action a\"\"\"\n",
        "        pass\n",
        "\n",
        "    def reinforce(self, s, n_s, a, r, game_over_):\n",
        "        \"\"\" This function is the core of the learning algorithm. \n",
        "        It takes as an input the current state s_, the next state n_s_\n",
        "        the action a_ used to move from s_ to n_s_ and the reward r_.\n",
        "        \n",
        "        Its goal is to learn a policy.\n",
        "        \"\"\"\n",
        "        pass\n",
        "\n",
        "    def save(self):\n",
        "        \"\"\" This function returns basic stats if applicable: the\n",
        "        loss and/or the model\"\"\"\n",
        "        pass\n",
        "\n",
        "    def load(self):\n",
        "        \"\"\" This function allows to restore a model\"\"\"\n",
        "        pass"
      ],
      "execution_count": 0,
      "outputs": []
    },
    {
      "cell_type": "markdown",
      "metadata": {
        "id": "8Qbk8alBQ5YQ",
        "colab_type": "text"
      },
      "source": [
        "***\n",
        "__Question 1__:\n",
        "Explain the function act. Why is ```epsilon``` essential?"
      ]
    },
    {
      "cell_type": "markdown",
      "metadata": {
        "id": "_ShAl1cmQ5YR",
        "colab_type": "text"
      },
      "source": [
        "The function act selects the next action the agent will take at the state s. It implements an $\\epsilon$-greedy strategy with $\\epsilon = 0.1$ as default.\n",
        "In training mode, the agent will either select the action with the best expected reward with a probability of $1- \\epsilon$ or select a random action with probability $\\epsilon$. This allows the agent to retrieve information about the environment and improve his estimations of the expected reward for all the states (with probability 1). It is a trade-off between exploration an exploitation.\n",
        "In test mode, it can be better to always select the best action, as the goal is to maximize the reward."
      ]
    },
    {
      "cell_type": "markdown",
      "metadata": {
        "id": "sE_cX8zkQ5YS",
        "colab_type": "text"
      },
      "source": [
        "***\n",
        "### The Game"
      ]
    },
    {
      "cell_type": "markdown",
      "metadata": {
        "id": "3Z4sajJLQ5YS",
        "colab_type": "text"
      },
      "source": [
        "The ```Agent``` and the ```Environment``` work in an interlaced way as in the following (take some time to understand this code as it is the core of the project)\n",
        "\n",
        "```python\n",
        "\n",
        "epoch = 300\n",
        "env = Environment()\n",
        "agent = Agent()\n",
        "\n",
        "\n",
        "# Number of won games\n",
        "score = 0\n",
        "loss = 0\n",
        "\n",
        "\n",
        "for e in range(epoch):\n",
        "    # At each epoch, we restart to a fresh game and get the initial state\n",
        "    state = env.reset()\n",
        "    # This assumes that the games will end\n",
        "    game_over = False\n",
        "\n",
        "    win = 0\n",
        "    lose = 0\n",
        "    \n",
        "    while not game_over:\n",
        "        # The agent performs an action\n",
        "        action = agent.act(state)\n",
        "\n",
        "        # Apply an action to the environment, get the next state, the reward\n",
        "        # and if the games end\n",
        "        prev_state = state\n",
        "        state, reward, game_over = env.act(action)\n",
        "\n",
        "        # Update the counters\n",
        "        if reward > 0:\n",
        "            win = win + reward\n",
        "        if reward < 0:\n",
        "            lose = lose -reward\n",
        "\n",
        "        # Apply the reinforcement strategy\n",
        "        loss = agent.reinforce(prev_state, state,  action, reward, game_over)\n",
        "\n",
        "    # Save as a mp4\n",
        "    if e % 10 == 0:\n",
        "        env.draw(e)\n",
        "\n",
        "    # Update stats\n",
        "    score += win-lose\n",
        "\n",
        "    print(\"Epoch {:03d}/{:03d} | Loss {:.4f} | Win/lose count {}/{} ({})\"\n",
        "          .format(e, epoch, loss, win, lose, win-lose))\n",
        "    agent.save()\n",
        "```"
      ]
    },
    {
      "cell_type": "markdown",
      "metadata": {
        "id": "K40lztnNQ5YT",
        "colab_type": "text"
      },
      "source": [
        "# The game, *eat cheese*"
      ]
    },
    {
      "cell_type": "markdown",
      "metadata": {
        "id": "PmGsLE-oQ5YT",
        "colab_type": "text"
      },
      "source": [
        "A rat runs on an island and tries to eat as much as possible. The island is subdivided into $N\\times N$ cells, in which there are cheese (+0.5) and poisonous cells (-1). The rat has a visibility of 2 cells (thus it can see $5^2$ cells). The rat is given a time $T$ to accumulate as much food as possible. It can perform 4 actions: going up, down, left, right. \n",
        "\n",
        "The goal is to code an agent to solve this task that will learn by trial and error. We propose the following environment:"
      ]
    },
    {
      "cell_type": "code",
      "metadata": {
        "id": "zUBy3ib6Q5YU",
        "colab_type": "code",
        "colab": {}
      },
      "source": [
        "class Environment(object):\n",
        "    def __init__(self, grid_size=10, max_time=500, temperature=0.1):\n",
        "        grid_size = grid_size+4\n",
        "        self.grid_size = grid_size\n",
        "        self.max_time = max_time\n",
        "        self.temperature = temperature\n",
        "\n",
        "        #board on which one plays\n",
        "        self.board = np.zeros((grid_size,grid_size))\n",
        "        self.position = np.zeros((grid_size,grid_size))\n",
        "\n",
        "        # coordinate of the cat\n",
        "        self.x = 0\n",
        "        self.y = 1\n",
        "\n",
        "        # self time\n",
        "        self.t = 0\n",
        "\n",
        "        self.scale=16\n",
        "\n",
        "        self.to_draw = np.zeros((max_time+2, grid_size*self.scale, grid_size*self.scale, 3))\n",
        "\n",
        "\n",
        "    def draw(self,e):\n",
        "        skvideo.io.vwrite(str(e) + '.mp4', self.to_draw)\n",
        "\n",
        "    def get_frame(self,t):\n",
        "        b = np.zeros((self.grid_size,self.grid_size,3))+128\n",
        "        b[self.board>0,0] = 256\n",
        "        b[self.board < 0, 2] = 256\n",
        "        b[self.x,self.y,:]=256\n",
        "        b[-2:,:,:]=0\n",
        "        b[:,-2:,:]=0\n",
        "        b[:2,:,:]=0\n",
        "        b[:,:2,:]=0\n",
        "        \n",
        "        b =  cv2.resize(b, None, fx=self.scale, fy=self.scale, interpolation=cv2.INTER_NEAREST)\n",
        "\n",
        "        self.to_draw[t,:,:,:]=b\n",
        "\n",
        "\n",
        "    def act(self, action):\n",
        "        \"\"\"This function returns the new state, reward and decides if the\n",
        "        game ends.\"\"\"\n",
        "\n",
        "        self.get_frame(int(self.t))\n",
        "\n",
        "        self.position = np.zeros((self.grid_size, self.grid_size))\n",
        "\n",
        "        self.position[0:2,:]= -1\n",
        "        self.position[:,0:2] = -1\n",
        "        self.position[-2:, :] = -1\n",
        "        self.position[-2:, :] = -1\n",
        "\n",
        "        self.position[self.x, self.y] = 1\n",
        "        if action == 0:\n",
        "            if self.x == self.grid_size-3:\n",
        "                self.x = self.x-1\n",
        "            else:\n",
        "                self.x = self.x + 1\n",
        "        elif action == 1:\n",
        "            if self.x == 2:\n",
        "                self.x = self.x+1\n",
        "            else:\n",
        "                self.x = self.x-1\n",
        "        elif action == 2:\n",
        "            if self.y == self.grid_size - 3:\n",
        "                self.y = self.y - 1\n",
        "            else:\n",
        "                self.y = self.y + 1\n",
        "        elif action == 3:\n",
        "            if self.y == 2:\n",
        "                self.y = self.y + 1\n",
        "            else:\n",
        "                self.y = self.y - 1\n",
        "        else:\n",
        "            RuntimeError('Error: action not recognized')\n",
        "\n",
        "        self.t = self.t + 1\n",
        "        reward = self.board[self.x, self.y]\n",
        "        self.board[self.x, self.y] = 0\n",
        "        game_over = self.t > self.max_time\n",
        "        state = np.concatenate((self.board.reshape(self.grid_size, self.grid_size,1),\n",
        "                        self.position.reshape(self.grid_size, self.grid_size,1)),axis=2)\n",
        "        state = state[self.x-2:self.x+3,self.y-2:self.y+3,:]\n",
        "\n",
        "        return state, reward, game_over\n",
        "\n",
        "    def reset(self):\n",
        "        \"\"\"This function resets the game and returns the initial state\"\"\"\n",
        "\n",
        "        self.x = np.random.randint(3, self.grid_size-3, size=1)[0]\n",
        "        self.y = np.random.randint(3, self.grid_size-3, size=1)[0]\n",
        "\n",
        "\n",
        "        bonus = 0.5*np.random.binomial(1,self.temperature,size=self.grid_size**2)\n",
        "        bonus = bonus.reshape(self.grid_size,self.grid_size)\n",
        "\n",
        "        malus = -1.0*np.random.binomial(1,self.temperature,size=self.grid_size**2)\n",
        "        malus = malus.reshape(self.grid_size, self.grid_size)\n",
        "\n",
        "        self.to_draw = np.zeros((self.max_time+2, self.grid_size*self.scale, self.grid_size*self.scale, 3))\n",
        "\n",
        "\n",
        "        malus[bonus>0]=0\n",
        "\n",
        "        self.board = bonus + malus\n",
        "\n",
        "        self.position = np.zeros((self.grid_size, self.grid_size))\n",
        "        self.position[0:2,:]= -1\n",
        "        self.position[:,0:2] = -1\n",
        "        self.position[-2:, :] = -1\n",
        "        self.position[-2:, :] = -1\n",
        "        self.board[self.x,self.y] = 0\n",
        "        self.t = 0\n",
        "\n",
        "        state = np.concatenate((\n",
        "                               self.board.reshape(self.grid_size, self.grid_size,1),\n",
        "                        self.position.reshape(self.grid_size, self.grid_size,1)),axis=2)\n",
        "\n",
        "        state = state[self.x - 2:self.x + 3, self.y - 2:self.y + 3, :]\n",
        "        return state"
      ],
      "execution_count": 0,
      "outputs": []
    },
    {
      "cell_type": "markdown",
      "metadata": {
        "id": "TTDZjFq1Q5YW",
        "colab_type": "text"
      },
      "source": [
        "The following elements are important because they correspond to the hyper parameters for this project:"
      ]
    },
    {
      "cell_type": "code",
      "metadata": {
        "id": "Eap7odA5Q5YX",
        "colab_type": "code",
        "colab": {}
      },
      "source": [
        "# parameters\n",
        "size = 13\n",
        "T=200\n",
        "temperature=0.3\n",
        "epochs_train=30 # set small when debugging\n",
        "epochs_test=10 # set small when debugging\n",
        "\n",
        "# display videos\n",
        "def display_videos(name):\n",
        "    video = io.open(name, 'r+b').read()\n",
        "    encoded = base64.b64encode(video)\n",
        "    return '''<video alt=\"test\" controls>\n",
        "                <source src=\"data:video/mp4;base64,{0}\" type=\"video/mp4\" />\n",
        "             </video>'''.format(encoded.decode('ascii'))"
      ],
      "execution_count": 0,
      "outputs": []
    },
    {
      "cell_type": "markdown",
      "metadata": {
        "id": "EsvsNgPLQ5Yc",
        "colab_type": "text"
      },
      "source": [
        "__Question 2__ Explain the use of the arrays ```position``` and ```board```."
      ]
    },
    {
      "cell_type": "markdown",
      "metadata": {
        "id": "NX5xCFEVQ5Yd",
        "colab_type": "text"
      },
      "source": [
        "```position```: position is an $N \\times N$ matrix that specify the rat's position (he is markes as a one) and the area where it's allowed to move (marked with 0), and not allowoed (marked with -1). It is  updated after each action.\n",
        "\n",
        "```board``` : the variable board is an $N \\times N$ matrix that keeps track of the reward of each cell of the  grid.\n",
        "When the environment is reset, board yields a reward of 0.5 for the cells where there is cheese, and -1 for the poisonous cells. Each time the rat visits a cell, its reward is set to 0 (the rat eats what's in the cell) which is done the function act."
      ]
    },
    {
      "cell_type": "markdown",
      "metadata": {
        "id": "Fe1OL-xeQ5Ye",
        "colab_type": "text"
      },
      "source": [
        "## Random Agent"
      ]
    },
    {
      "cell_type": "markdown",
      "metadata": {
        "id": "fqFuGAwDQ5Ye",
        "colab_type": "text"
      },
      "source": [
        "***\n",
        "__Question 3__ Implement a random Agent (only ```learned_act``` needs to be implemented):"
      ]
    },
    {
      "cell_type": "code",
      "metadata": {
        "id": "CStSyklUQ5Yf",
        "colab_type": "code",
        "colab": {}
      },
      "source": [
        "class RandomAgent(Agent):\n",
        "    def __init__(self):\n",
        "        super(RandomAgent, self).__init__()\n",
        "        pass\n",
        "\n",
        "    def learned_act(self, s):\n",
        "\n",
        "        a = np.random.randint(0, self.n_action, size=1)[0]\n",
        "\n",
        "        return a"
      ],
      "execution_count": 0,
      "outputs": []
    },
    {
      "cell_type": "markdown",
      "metadata": {
        "id": "bpkCu4N1Q5Yi",
        "colab_type": "text"
      },
      "source": [
        "***\n",
        "***\n",
        "__Question 4__ Visualize the game moves. You need to fill in the following function for the evaluation:"
      ]
    },
    {
      "cell_type": "code",
      "metadata": {
        "id": "802bfarmQ5Yi",
        "colab_type": "code",
        "colab": {}
      },
      "source": [
        "def test(agent,env,epochs,prefix='', verbose=True):\n",
        "    # Number of won games\n",
        "    score = 0\n",
        "        \n",
        "    for e in range(epochs):\n",
        "        \n",
        "        ##### FILL IN HERE\n",
        "\n",
        "        state = env.reset()\n",
        "\n",
        "        win = 0\n",
        "        lose = 0\n",
        "\n",
        "        while env.t < T :\n",
        "\n",
        "          action = agent.learned_act(state)\n",
        "\n",
        "          prev_state = state\n",
        "          state, reward, game_over = env.act(action)\n",
        "\n",
        "          if reward > 0:\n",
        "            win = win + reward\n",
        "          if reward < 0:\n",
        "            lose = lose -reward\n",
        "\n",
        "        #####\n",
        "        \n",
        "        # Save as a mp4\n",
        "        env.draw(prefix+str(e))\n",
        "\n",
        "        # Update stats\n",
        "        score = score + win-lose\n",
        "        if verbose : \n",
        "          print(\"Win/lose count {}/{}. Average score ({})\"\n",
        "                .format(win, lose, score/(1+e)))\n",
        "    print('Final score: '+str(score/epochs))"
      ],
      "execution_count": 0,
      "outputs": []
    },
    {
      "cell_type": "code",
      "metadata": {
        "id": "OfgfNX0XQ5Yl",
        "colab_type": "code",
        "outputId": "a893211a-7ad8-4ee9-a340-4e6a0ede77f6",
        "colab": {
          "base_uri": "https://localhost:8080/",
          "height": 328
        }
      },
      "source": [
        "# Initialize the game\n",
        "env = Environment(grid_size=size, max_time=T,temperature=temperature)\n",
        "\n",
        "# Initialize the agent!\n",
        "agent_rdm = RandomAgent()\n",
        "\n",
        "test(agent_rdm,env,1,prefix='random')\n",
        "HTML(display_videos('random0.mp4'))"
      ],
      "execution_count": 0,
      "outputs": [
        {
          "output_type": "stream",
          "text": [
            "Win/lose count 9.0/20.0. Average score (-11.0)\n",
            "Final score: -11.0\n"
          ],
          "name": "stdout"
        },
        {
          "output_type": "execute_result",
          "data": {
            "text/html": [
              "<video alt=\"test\" controls>\n",
              "                <source src=\"data:video/mp4;base64,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\" type=\"video/mp4\" />\n",
              "             </video>"
            ],
            "text/plain": [
              "<IPython.core.display.HTML object>"
            ]
          },
          "metadata": {
            "tags": []
          },
          "execution_count": 31
        }
      ]
    },
    {
      "cell_type": "markdown",
      "metadata": {
        "id": "9ZGEeDLaQ5Yn",
        "colab_type": "text"
      },
      "source": [
        "***\n",
        "## DQN"
      ]
    },
    {
      "cell_type": "markdown",
      "metadata": {
        "id": "TqmphsfxQ5Yn",
        "colab_type": "text"
      },
      "source": [
        "Let us assume here that $T=\\infty$.\n",
        "\n",
        "***\n",
        "__Question 5__ Let $\\pi$ be a policy, show that:\n",
        "\n",
        "\\begin{equation*}\n",
        "Q^{\\pi}(s,a)=E_{(s',a')\\sim p(.|s,a)}[r(s,a)+\\gamma Q^{\\pi}(s',a')]\n",
        "\\end{equation*}\n",
        "\n",
        "\n",
        "----\n",
        "\n",
        "In the discounted inifinite case, the expression fot the $Q$ function is :\n",
        "\n",
        "\\begin{equation*}Q^\\pi(s,a)=E_{(s',a')\\sim p^{\\pi}(.|s,a)}[\\sum_{t=0}^{\\infty}\\gamma^{t}r(s_{t},a_{t})|s_{0}=s,a_{0}=a]\n",
        "\\end{equation*}\n",
        "\n",
        "Because of the Markov property, we can write : \n",
        "\\begin{equation*}\n",
        "= r(s,a) + \\gamma \\sum_{s'}\\sum_{a'}p^{\\pi}(s',a'|s,a)[\\sum_{t=1}^{\\infty}\\gamma^{t-1}r(s_{t},a_{t})|s_{1}=s',a_{1}=a'] \\> \n",
        "\\end{equation*}\n",
        "\n",
        "\\begin{equation*}\n",
        "= r(s,a) + \\gamma \\sum_{s'}\\sum_{a'}p^{\\pi}(s',a'|s,a)[\\sum_{t'=0}^{\\infty}\\gamma^{t'}r(s_{t'},a_{t'})|s_{0}=s',a_{0}=a'] \\> \n",
        "\\end{equation*}\n",
        "\n",
        "\\begin{equation*}\n",
        "= r(s,a) + \\gamma \\sum_{s'}\\sum_{a'}p^{\\pi}(s',a'|s,a) Q^{\\pi}(s',a')\\> \n",
        "\\end{equation*}\n",
        "\n",
        "\\begin{equation*}\n",
        "= E_{(s',a')\\sim p^{\\pi}(.|s,a)}[r(s,a)+\\gamma Q^{\\pi}(s',a')])\\> \n",
        "\\end{equation*}\n",
        "\n",
        "\n",
        "\n",
        "----\n",
        "\n",
        "Then, show that for the optimal policy $\\pi^*$ (we assume its existence), the following holds: \n",
        "\n",
        "\\begin{equation*}\n",
        "Q^{*}(s,a)=E_{s'\\sim \\pi^*(.|s,a)}[r(s,a)+\\gamma\\max_{a'}Q^{*}(s',a')].\n",
        "\\end{equation*}\n",
        "\n",
        "The optimal $Q$ function is defined as : \n",
        "\n",
        "\\begin{equation*}\n",
        "Q^*(s,a)=\\max_{\\pi}Q^\\pi(s,a) \\> .\n",
        "\\end{equation*}\n",
        "\n",
        "\\begin{equation*}\n",
        "Q^*(s,a)=Q^{\\pi^{*}}(s,a) \\> .\n",
        "\\end{equation*}\n",
        "\n",
        "$$=E_{(s',a')\\sim {\\pi*}(.|s,a)}[r(s,a)+\\gamma Q^{\\pi^{*}}(s',\\pi^*(s'))]$$\n",
        "\n",
        "\n",
        "$$=E_{s'\\sim \\pi^*(.|s,a)}[r(s,a)+\\gamma \\max_{a'} Q^{\\pi^{*}}(s',a')]$$\n",
        "\n",
        "----\n",
        "\n",
        "Finally, deduce that a plausible objective is:\n",
        "\n",
        "\\begin{equation*}\n",
        "\\mathcal{L}(\\theta)=E_{s' \\sim \\pi^*(.|s,a)}\\Vert r+\\gamma\\max\\max_{a'}Q(s',a',\\theta)-Q(s,a,\\theta)\\Vert^{2}.\n",
        "\\end{equation*}\n",
        "\n",
        "The optimale $Q$ function is the only function that satisfies the Bellmann equation. Threfore, we want to fin the $\\theta$ so that the difference :\n",
        "$$r(s,a)+\\gamma\\max_{a'}Q^{*}(s',a')-Q^{*}(s,a)$$\n",
        "is minimal (ideally 0) on average with respect to $p^{\\pi^*}$. \n",
        "If $Q$ is $\\theta$-parametrized, then minimising $\\mathcal{L}(\\theta)$ will make $Q_\\theta$ converge to $Q^*$, with :\n",
        "\\begin{equation*}\n",
        "\\mathcal{L}(\\theta)=E_{s' \\sim \\pi^*(.|s,a)}\\Vert r+\\gamma\\max_{a'}Q(s',a',\\theta)-Q(s,a,\\theta)\\Vert^{2}.\n",
        "\\end{equation*}\n",
        "\n"
      ]
    },
    {
      "cell_type": "markdown",
      "metadata": {
        "id": "PzfAaedFQ5Yo",
        "colab_type": "text"
      },
      "source": [
        "***\n",
        "The DQN-learning algorithm relies on these derivations to train the parameters $\\theta$ of a Deep Neural Network:\n",
        "\n",
        "1. At the state $s_t$, select the action $a_t$ with best reward using $Q_t$ and store the results;\n",
        "\n",
        "2. Obtain the new state $s_{t+1}$ from the environment $p$;\n",
        "\n",
        "3. Store $(s_t,a_t,s_{t+1})$;\n",
        "\n",
        "4. Obtain $Q_{t+1}$ by minimizing  $\\mathcal{L}$ from a recovered batch from the previously stored results.\n",
        "\n",
        "***\n",
        "__Question 6__ Implement the class ```Memory``` that stores moves (in a replay buffer) via ```remember``` and provides a ```random_access``` to these. Specify a maximum memory size to avoid side effects. You can for example use a ```list()``` and set by default ```max_memory=100```."
      ]
    },
    {
      "cell_type": "code",
      "metadata": {
        "id": "68RGpZKNQ5Yp",
        "colab_type": "code",
        "colab": {}
      },
      "source": [
        "class Memory(object):\n",
        "    def __init__(self, max_memory=100):\n",
        "        self.max_memory = max_memory\n",
        "        self.memory = list()\n",
        "\n",
        "    def remember(self, m):\n",
        "        if len(self.memory) == self.max_memory :\n",
        "          self.memory = self.memory[1:]+[m]\n",
        "        else :\n",
        "          self.memory.append(m)\n",
        "\n",
        "    def random_access(self):\n",
        "        rdn_id = np.random.randint(len(self.memory))\n",
        "        m = self.memory[rdn_id]\n",
        "        return m"
      ],
      "execution_count": 0,
      "outputs": []
    },
    {
      "cell_type": "markdown",
      "metadata": {
        "id": "-V_bH5a_Q5Yu",
        "colab_type": "text"
      },
      "source": [
        "***\n",
        "The pipeline we will use for training is given below:"
      ]
    },
    {
      "cell_type": "code",
      "metadata": {
        "id": "Kv5F3OiQQ5Yu",
        "colab_type": "code",
        "colab": {}
      },
      "source": [
        "def train(agent,env,epoch,prefix='',verbose=True,plot=False):\n",
        "    # Number of won games\n",
        "    score = 0\n",
        "    loss = 0\n",
        "    scores, wins, losses = [], [], []\n",
        "\n",
        "    for e in range(epoch):\n",
        "        # At each epoch, we restart to a fresh game and get the initial state\n",
        "        state = env.reset()\n",
        "        # This assumes that the games will terminate\n",
        "        game_over = False\n",
        "\n",
        "        win = 0\n",
        "        lose = 0\n",
        "\n",
        "        while not game_over:\n",
        "            # The agent performs an action\n",
        "            action = agent.act(state)\n",
        "\n",
        "            # Apply an action to the environment, get the next state, the reward\n",
        "            # and if the games end\n",
        "            prev_state = state\n",
        "            state, reward, game_over = env.act(action)\n",
        "\n",
        "            # Update the counters\n",
        "            if reward > 0:\n",
        "                win = win + reward\n",
        "            if reward < 0:\n",
        "                lose = lose -reward\n",
        "\n",
        "            # Apply the reinforcement strategy\n",
        "            loss = agent.reinforce(prev_state, state,  action, reward, game_over)\n",
        "\n",
        "        # Save as a mp4\n",
        "        if e % 10 == 0:\n",
        "            env.draw(prefix+str(e))\n",
        "\n",
        "        # Update stats\n",
        "        score += win-lose\n",
        "        scores.append(score)\n",
        "        wins.append(win)\n",
        "        losses.append(lose)\n",
        "\n",
        "        if verbose : \n",
        "          print(\"Epoch {:03d}/{:03d} | Loss {:.4f} | Win/lose count {}/{} ({})\"\n",
        "                .format(e, epoch, loss, win, lose, win-lose))\n",
        "        agent.save(name_weights=prefix+'model.h5',name_model=prefix+'model.json')\n",
        "\n",
        "    if plot : \n",
        "      plt.plot(wins, label=\"wins\")\n",
        "      plt.plot(losses, label=\"losses\")\n",
        "      plt.xlabel(\"Epoch\")\n",
        "      plt.legend()\n",
        "      plt.grid()\n"
      ],
      "execution_count": 0,
      "outputs": []
    },
    {
      "cell_type": "markdown",
      "metadata": {
        "id": "atBcw9SgQ5Yx",
        "colab_type": "text"
      },
      "source": [
        "***\n",
        "__Question 7__ Implement the DQN training algorithm using a cascade of fully connected layers. You can use different learning rate, batch size or memory size parameters. In particular, the loss might oscillate while the player will start to win the games. You have to find a good criterium.\n",
        "\n",
        "***\n",
        "***\n",
        "\n",
        "We trained the model for 50 epochs and for different sets of parameters, and used the average score over a few epochs on the test phase to evaluate it."
      ]
    },
    {
      "cell_type": "code",
      "metadata": {
        "id": "0nzbL93QQ5Yy",
        "colab_type": "code",
        "colab": {}
      },
      "source": [
        "class DQN(Agent):\n",
        "    def __init__(self, grid_size,  epsilon = 0.1, memory_size=100, batch_size = 16,n_state=2):\n",
        "        super(DQN, self).__init__(epsilon = epsilon)\n",
        "\n",
        "        # Discount for Q learning\n",
        "        self.discount = 0.99\n",
        "        \n",
        "        self.grid_size = grid_size\n",
        "        \n",
        "        # number of state\n",
        "        self.n_state = n_state\n",
        "\n",
        "        # Memory\n",
        "        self.memory = Memory(memory_size)\n",
        "        \n",
        "        # Batch size when learning\n",
        "        self.batch_size = batch_size\n",
        "        \n",
        "\n",
        "    def learned_act(self, s):\n",
        "        return np.argmax(self.model.predict(np.expand_dims(s, 0)))\n",
        "\n",
        "    def reinforce(self, s_, n_s_, a_, r_, game_over_):\n",
        "        # Two steps: first memorize the states, second learn from the pool\n",
        "\n",
        "        self.memory.remember([s_, n_s_, a_, r_, game_over_])\n",
        "        \n",
        "        input_states = np.zeros((self.batch_size, 5,5,self.n_state))\n",
        "        target_q = np.zeros((self.batch_size, 4))\n",
        "        \n",
        "        for i in range(self.batch_size):\n",
        "\n",
        "            s_, n_s_, a_, r_, game_over_ = self.memory.random_access()\n",
        "            input_states[i] = s_ \n",
        "\n",
        "            # We only take into account the states and actions where we have new information. \n",
        "            # In the others, the target is the input, and they do not impact the gradient, thus the update of theta.\n",
        "            target_q[i] =self.model.predict(np.expand_dims(s_, axis = 0))\n",
        "            \n",
        "            if game_over_:\n",
        "                target_q[i,a_] = r_\n",
        "            else:\n",
        "                target_q[i,a_] = r_ + self.discount * np.max(self.model.predict(np.expand_dims(n_s_, axis = 0)))\n",
        "\n",
        "        # HINT: Clip the target to avoid exploiding gradients.. -- clipping is a bit tighter\n",
        "        target_q = np.clip(target_q, -3, 3)\n",
        "\n",
        "        l = self.model.train_on_batch(input_states, target_q)\n",
        "\n",
        "        return l\n",
        "\n",
        "    def save(self,name_weights='model.h5',name_model='model.json'):\n",
        "        self.model.save_weights(name_weights, overwrite=True)\n",
        "        with open(name_model, \"w\") as outfile:\n",
        "            json.dump(self.model.to_json(), outfile)\n",
        "            \n",
        "    def load(self,name_weights='model.h5',name_model='model.json'):\n",
        "        with open(name_model, \"r\") as jfile:\n",
        "            model = model_from_json(json.load(jfile))\n",
        "        model.load_weights(name_weights)\n",
        "        model.compile(\"sgd\", \"mse\")\n",
        "        self.model = model\n",
        "\n",
        "            \n",
        "class DQN_FC(DQN):\n",
        "    def __init__(self, *args, lr=0.1,**kwargs):\n",
        "        super(DQN_FC, self).__init__( *args,**kwargs)\n",
        "        \n",
        "        # NN Model\n",
        "        model = Sequential()\n",
        "        model.add(Dense(50, input_shape=(5, 5, self.n_state), activation='relu'))\n",
        "        model.add(Dense(25, activation = \"relu\"))\n",
        "        model.add(Flatten())\n",
        "        model.add(Dense(4))\n",
        "        \n",
        "        model.compile(sgd(lr=lr, decay=1e-4, momentum=0.0), \"mse\")\n",
        "        self.model = model\n",
        "        "
      ],
      "execution_count": 0,
      "outputs": []
    },
    {
      "cell_type": "code",
      "metadata": {
        "id": "STG-ToGPEjbw",
        "colab_type": "code",
        "colab": {
          "base_uri": "https://localhost:8080/",
          "height": 34
        },
        "outputId": "087ea0d3-05f3-4e3a-b76b-7a627f06eb83"
      },
      "source": [
        "env = Environment(grid_size=size, max_time=T, temperature=0.3)\n",
        "agent = DQN_FC(size, lr=.1, epsilon = 0.1, memory_size=2000, batch_size = 32)\n",
        "train(agent, env, 50, prefix='fc_train', verbose=False)\n",
        "test(agent,env,25,prefix='fc_test', verbose = False)"
      ],
      "execution_count": 38,
      "outputs": [
        {
          "output_type": "stream",
          "text": [
            "Final score: 5.14\n"
          ],
          "name": "stdout"
        }
      ]
    },
    {
      "cell_type": "markdown",
      "metadata": {
        "id": "KqGGO7SqESzJ",
        "colab_type": "text"
      },
      "source": [
        "#### Neural Structure"
      ]
    },
    {
      "cell_type": "markdown",
      "metadata": {
        "id": "6jNwHyMYEWs7",
        "colab_type": "text"
      },
      "source": [
        "##### A small model - 3.95\n",
        "\n"
      ]
    },
    {
      "cell_type": "code",
      "metadata": {
        "id": "7P9ZCl_1EuHK",
        "colab_type": "code",
        "colab": {}
      },
      "source": [
        "class DQN_FC(DQN):\n",
        "    def __init__(self, *args, lr=0.1,**kwargs):\n",
        "        super(DQN_FC, self).__init__( *args,**kwargs)\n",
        "        \n",
        "        # NN Model\n",
        "        model = Sequential()\n",
        "        model.add(Dense(32, input_shape=(5, 5, self.n_state), activation='relu'))\n",
        "        model.add(Dense(16, activation = \"relu\"))\n",
        "        model.add(Flatten())\n",
        "        model.add(Dense(4))\n",
        "        \n",
        "        model.compile(sgd(lr=lr, decay=1e-4, momentum=0.0), \"mse\")\n",
        "        self.model = model"
      ],
      "execution_count": 0,
      "outputs": []
    },
    {
      "cell_type": "code",
      "metadata": {
        "id": "JZKIjUi2FJ8f",
        "colab_type": "code",
        "outputId": "3bcab419-8ea8-46aa-cbfb-eec094f342f4",
        "colab": {
          "base_uri": "https://localhost:8080/",
          "height": 35
        }
      },
      "source": [
        "env = Environment(grid_size=size, max_time=T, temperature=0.3)\n",
        "agent = DQN_FC(size, lr=.1, epsilon = 0.1, memory_size=2000, batch_size = 32)\n",
        "train(agent, env, 50, prefix='fc_train', verbose=False)\n",
        "test(agent,env,10,prefix='fc_test', verbose = False)"
      ],
      "execution_count": 0,
      "outputs": [
        {
          "output_type": "stream",
          "text": [
            "Final score: 3.95\n"
          ],
          "name": "stdout"
        }
      ]
    },
    {
      "cell_type": "markdown",
      "metadata": {
        "colab_type": "text",
        "id": "sBGETw1uSIfO"
      },
      "source": [
        "##### A medium model (1) - 6.65"
      ]
    },
    {
      "cell_type": "code",
      "metadata": {
        "colab_type": "code",
        "id": "y2Zln7CHSIfR",
        "colab": {}
      },
      "source": [
        "class DQN_FC(DQN):\n",
        "    def __init__(self, *args, lr=0.1,**kwargs):\n",
        "        super(DQN_FC, self).__init__( *args,**kwargs)\n",
        "        \n",
        "        # NN Model\n",
        "        model = Sequential()\n",
        "        model.add(Dense(64, input_shape=(5, 5, self.n_state), activation='relu'))\n",
        "        model.add(Dense(32, activation = \"relu\"))\n",
        "        model.add(Flatten())\n",
        "        model.add(Dense(4))\n",
        "        \n",
        "        model.compile(sgd(lr=lr, decay=1e-4, momentum=0.0), \"mse\")\n",
        "        self.model = model"
      ],
      "execution_count": 0,
      "outputs": []
    },
    {
      "cell_type": "code",
      "metadata": {
        "colab_type": "code",
        "outputId": "c2521466-b2c4-4ab5-a694-74a70010be3e",
        "id": "ubRyb_asSIfU",
        "colab": {
          "base_uri": "https://localhost:8080/",
          "height": 35
        }
      },
      "source": [
        "env = Environment(grid_size=size, max_time=T, temperature=0.3)\n",
        "agent = DQN_FC(size, lr=.1, epsilon = 0.1, memory_size=2000, batch_size = 32)\n",
        "train(agent, env, 50, prefix='fc_train', verbose=False)\n",
        "test(agent,env,10,prefix='fc_test', verbose = False)"
      ],
      "execution_count": 0,
      "outputs": [
        {
          "output_type": "stream",
          "text": [
            "Final score: 6.65\n"
          ],
          "name": "stdout"
        }
      ]
    },
    {
      "cell_type": "markdown",
      "metadata": {
        "id": "tJkM2_nvSQQ_",
        "colab_type": "text"
      },
      "source": [
        "##### A medium model (2) - 5.9"
      ]
    },
    {
      "cell_type": "code",
      "metadata": {
        "id": "18VOwJAAFMJJ",
        "colab_type": "code",
        "colab": {}
      },
      "source": [
        "class DQN_FC(DQN):\n",
        "    def __init__(self, *args, lr=0.1,**kwargs):\n",
        "        super(DQN_FC, self).__init__( *args,**kwargs)\n",
        "        \n",
        "        # NN Model\n",
        "        model = Sequential()\n",
        "        model.add(Dense(128, input_shape=(5, 5, self.n_state), activation='relu'))\n",
        "        model.add(Dense(32, activation = \"relu\"))\n",
        "        model.add(Flatten())\n",
        "        model.add(Dense(4))\n",
        "        \n",
        "        model.compile(sgd(lr=lr, decay=1e-4, momentum=0.0), \"mse\")\n",
        "        self.model = model"
      ],
      "execution_count": 0,
      "outputs": []
    },
    {
      "cell_type": "code",
      "metadata": {
        "id": "uiVtUF-kFNGd",
        "colab_type": "code",
        "outputId": "45d732b4-55b6-4685-b406-dbf5172cc42c",
        "colab": {
          "base_uri": "https://localhost:8080/",
          "height": 35
        }
      },
      "source": [
        "env = Environment(grid_size=size, max_time=T, temperature=0.3)\n",
        "agent = DQN_FC(size, lr=.1, epsilon = 0.1, memory_size=2000, batch_size = 32)\n",
        "train(agent, env, 50, prefix='fc_train', verbose=False)\n",
        "test(agent,env,10,prefix='fc_test', verbose = False)"
      ],
      "execution_count": 0,
      "outputs": [
        {
          "output_type": "stream",
          "text": [
            "Final score: 5.9\n"
          ],
          "name": "stdout"
        }
      ]
    },
    {
      "cell_type": "markdown",
      "metadata": {
        "id": "Ec-F3-GEPEjR",
        "colab_type": "text"
      },
      "source": [
        "##### A bigger model : 5.8"
      ]
    },
    {
      "cell_type": "code",
      "metadata": {
        "id": "KQfex7gmLLxE",
        "colab_type": "code",
        "colab": {}
      },
      "source": [
        "class DQN_FC(DQN):\n",
        "    def __init__(self, *args, lr=0.1,**kwargs):\n",
        "        super(DQN_FC, self).__init__( *args,**kwargs)\n",
        "        \n",
        "        # NN Model\n",
        "        model = Sequential()\n",
        "        model.add(Dense(256, input_shape=(5, 5, self.n_state), activation='relu'))\n",
        "        model.add(Dense(128, activation = \"relu\"))\n",
        "        model.add(Dense(32, activation = \"relu\"))\n",
        "        model.add(Flatten())\n",
        "        model.add(Dense(4))\n",
        "        \n",
        "        model.compile(sgd(lr=lr, decay=1e-4, momentum=0.0), \"mse\")\n",
        "        self.model = model"
      ],
      "execution_count": 0,
      "outputs": []
    },
    {
      "cell_type": "code",
      "metadata": {
        "id": "gxo1vhcULTEw",
        "colab_type": "code",
        "outputId": "11a256b1-574e-4c09-e741-1b8fe1127711",
        "colab": {
          "base_uri": "https://localhost:8080/",
          "height": 35
        }
      },
      "source": [
        "env = Environment(grid_size=size, max_time=T, temperature=0.3)\n",
        "agent = DQN_FC(size, lr=.1, epsilon = 0.1, memory_size=2000, batch_size = 32)\n",
        "train(agent, env, 50, prefix='fc_train', verbose=False)\n",
        "test(agent,env,10,prefix='fc_test', verbose = False)"
      ],
      "execution_count": 0,
      "outputs": [
        {
          "output_type": "stream",
          "text": [
            "Final score: 5.8\n"
          ],
          "name": "stdout"
        }
      ]
    },
    {
      "cell_type": "markdown",
      "metadata": {
        "id": "ni6p-iAbDdsC",
        "colab_type": "text"
      },
      "source": [
        "#### batch_size"
      ]
    },
    {
      "cell_type": "code",
      "metadata": {
        "id": "d8zJ82-3F3Kc",
        "colab_type": "code",
        "colab": {}
      },
      "source": [
        "class DQN_FC(DQN):\n",
        "    def __init__(self, *args, lr=0.1,**kwargs):\n",
        "        super(DQN_FC, self).__init__( *args,**kwargs)\n",
        "        \n",
        "        # NN Model\n",
        "        model = Sequential()\n",
        "        model.add(Dense(64, input_shape=(5, 5, self.n_state), activation='relu'))\n",
        "        model.add(Dense(32, activation = \"relu\"))\n",
        "        model.add(Flatten())\n",
        "        model.add(Dense(4))\n",
        "        \n",
        "        model.compile(sgd(lr=lr, decay=1e-4, momentum=0.0), \"mse\")\n",
        "        self.model = model"
      ],
      "execution_count": 0,
      "outputs": []
    },
    {
      "cell_type": "code",
      "metadata": {
        "id": "DRwe6bnxF8bj",
        "colab_type": "code",
        "outputId": "e2e34f7f-e755-472e-918b-75e294d6b69b",
        "colab": {
          "base_uri": "https://localhost:8080/"
        }
      },
      "source": [
        "env = Environment(grid_size=size, max_time=T, temperature=0.3)\n",
        "agent = DQN_FC(size, lr=.1, epsilon = 0.1, memory_size=2000, batch_size = 16)\n",
        "train(agent, env, 50, prefix='fc_train', verbose=False)\n",
        "test(agent,env,10,prefix='fc_test', verbose = False)"
      ],
      "execution_count": 0,
      "outputs": [
        {
          "output_type": "stream",
          "text": [
            "Final score: 4.25\n"
          ],
          "name": "stdout"
        }
      ]
    },
    {
      "cell_type": "code",
      "metadata": {
        "id": "UfGM0tauF9Oo",
        "colab_type": "code",
        "outputId": "07cc6671-fff3-40a8-c176-f98fd6a4304b",
        "colab": {
          "base_uri": "https://localhost:8080/",
          "height": 35
        }
      },
      "source": [
        "env = Environment(grid_size=size, max_time=T, temperature=0.3)\n",
        "agent = DQN_FC(size, lr=.1, epsilon = 0.1, memory_size=2000, batch_size = 32)\n",
        "train(agent, env, 50, prefix='fc_train', verbose=False)\n",
        "test(agent,env,10,prefix='fc_test', verbose = False)"
      ],
      "execution_count": 0,
      "outputs": [
        {
          "output_type": "stream",
          "text": [
            "Final score: 5.25\n"
          ],
          "name": "stdout"
        }
      ]
    },
    {
      "cell_type": "code",
      "metadata": {
        "id": "ibsBotl0F9mq",
        "colab_type": "code",
        "outputId": "b522df9e-b31b-420b-8993-a3d3b8cd432e",
        "colab": {
          "base_uri": "https://localhost:8080/",
          "height": 35
        }
      },
      "source": [
        "env = Environment(grid_size=size, max_time=T, temperature=0.3)\n",
        "agent = DQN_FC(size, lr=.1, epsilon = 0.1, memory_size=2000, batch_size = 64)\n",
        "train(agent, env, 50, prefix='fc_train', verbose=False)\n",
        "test(agent,env,10,prefix='fc_test', verbose = False)"
      ],
      "execution_count": 0,
      "outputs": [
        {
          "output_type": "stream",
          "text": [
            "Final score: 9.25\n"
          ],
          "name": "stdout"
        }
      ]
    },
    {
      "cell_type": "markdown",
      "metadata": {
        "id": "uIwx5TztDfFB",
        "colab_type": "text"
      },
      "source": [
        "#### learning rate"
      ]
    },
    {
      "cell_type": "code",
      "metadata": {
        "id": "ZxC_p5a2GQip",
        "colab_type": "code",
        "outputId": "dff8bb95-f9c7-4fa5-ea49-41194eece44e",
        "colab": {
          "base_uri": "https://localhost:8080/"
        }
      },
      "source": [
        "env = Environment(grid_size=size, max_time=T, temperature=0.3)\n",
        "agent = DQN_FC(size, lr=.1, epsilon = 0.1, memory_size=2000, batch_size = 64)\n",
        "train(agent, env, 50, prefix='fc_train', verbose=False)\n",
        "test(agent,env,10,prefix='fc_test', verbose = False)"
      ],
      "execution_count": 0,
      "outputs": [
        {
          "output_type": "stream",
          "text": [
            "Final score: 7.2\n"
          ],
          "name": "stdout"
        }
      ]
    },
    {
      "cell_type": "code",
      "metadata": {
        "id": "Gd7mKXaDGQ0s",
        "colab_type": "code",
        "outputId": "bf96c184-57ac-4e12-9040-fe86daa7ca83",
        "colab": {
          "base_uri": "https://localhost:8080/",
          "height": 35
        }
      },
      "source": [
        "env = Environment(grid_size=size, max_time=T, temperature=0.3)\n",
        "agent = DQN_FC(size, lr=.3, epsilon = 0.1, memory_size=2000, batch_size = 64)\n",
        "train(agent, env, 50, prefix='fc_train', verbose=False)\n",
        "test(agent,env,10,prefix='fc_test', verbose = False)"
      ],
      "execution_count": 0,
      "outputs": [
        {
          "output_type": "stream",
          "text": [
            "Final score: 5.7\n"
          ],
          "name": "stdout"
        }
      ]
    },
    {
      "cell_type": "code",
      "metadata": {
        "id": "Qhy5kZFRvjo1",
        "colab_type": "code",
        "outputId": "7cb7492e-1255-48e1-a5ef-3697a5067051",
        "colab": {
          "base_uri": "https://localhost:8080/"
        }
      },
      "source": [
        "env = Environment(grid_size=size, max_time=T, temperature=0.3)\n",
        "agent = DQN_FC(size, lr=.5, epsilon = 0.1, memory_size=2000, batch_size = 64)\n",
        "train(agent, env, 50, prefix='fc_train', verbose=False)\n",
        "test(agent,env,10,prefix='fc_test', verbose = False)"
      ],
      "execution_count": 0,
      "outputs": [
        {
          "output_type": "stream",
          "text": [
            "Final score: 6.55\n"
          ],
          "name": "stdout"
        }
      ]
    },
    {
      "cell_type": "markdown",
      "metadata": {
        "id": "qIgsFXZjD2wI",
        "colab_type": "text"
      },
      "source": [
        "#### memory size"
      ]
    },
    {
      "cell_type": "code",
      "metadata": {
        "id": "w_y-2a61A0Js",
        "colab_type": "code",
        "outputId": "66dec595-2447-4a0e-f7c6-a587f8655c27",
        "colab": {
          "base_uri": "https://localhost:8080/",
          "height": 34
        }
      },
      "source": [
        "env = Environment(grid_size=size, max_time=T, temperature=0.3)\n",
        "agent = DQN_FC(size, lr=.1, epsilon = 0.1, memory_size=500, batch_size = 64)\n",
        "train(agent, env, 50, prefix='fc_train', verbose=False)\n",
        "test(agent,env,10,prefix='fc_test', verbose = False)"
      ],
      "execution_count": 0,
      "outputs": [
        {
          "output_type": "stream",
          "text": [
            "Final score: 3.85\n"
          ],
          "name": "stdout"
        }
      ]
    },
    {
      "cell_type": "code",
      "metadata": {
        "id": "Q05wyqpbGq7Z",
        "colab_type": "code",
        "outputId": "fdc38dee-2e07-4e3e-ab51-846acfb1684d",
        "colab": {
          "base_uri": "https://localhost:8080/",
          "height": 34
        }
      },
      "source": [
        "env = Environment(grid_size=size, max_time=T, temperature=0.3)\n",
        "agent = DQN_FC(size, lr=.1, epsilon = 0.1, memory_size=1000, batch_size = 64)\n",
        "train(agent, env, 50, prefix='fc_train', verbose=False)\n",
        "test(agent,env,10,prefix='fc_test', verbose = False)"
      ],
      "execution_count": 0,
      "outputs": [
        {
          "output_type": "stream",
          "text": [
            "Final score: 3.7\n"
          ],
          "name": "stdout"
        }
      ]
    },
    {
      "cell_type": "code",
      "metadata": {
        "id": "wXVSHeazGrJQ",
        "colab_type": "code",
        "outputId": "d03bb615-be31-493d-d529-74ef508db901",
        "colab": {
          "base_uri": "https://localhost:8080/",
          "height": 34
        }
      },
      "source": [
        "env = Environment(grid_size=size, max_time=T, temperature=0.3)\n",
        "agent = DQN_FC(size, lr=.1, epsilon = 0.1, memory_size=2000, batch_size = 64)\n",
        "train(agent, env, 50, prefix='fc_train', verbose=False)\n",
        "test(agent,env,10,prefix='fc_test', verbose = False)"
      ],
      "execution_count": 0,
      "outputs": [
        {
          "output_type": "stream",
          "text": [
            "Final score: 4.3\n"
          ],
          "name": "stdout"
        }
      ]
    },
    {
      "cell_type": "code",
      "metadata": {
        "id": "uUeHN0VMLUEo",
        "colab_type": "code",
        "outputId": "44124b4c-fcff-4c59-a1ab-edde3f911dbf",
        "colab": {
          "base_uri": "https://localhost:8080/",
          "height": 34
        }
      },
      "source": [
        "env = Environment(grid_size=size, max_time=T, temperature=0.3)\n",
        "agent = DQN_FC(size, lr=.1, epsilon = 0.1, memory_size=3500, batch_size = 64)\n",
        "train(agent, env, 50, prefix='fc_train', verbose=False)\n",
        "test(agent,env,10,prefix='fc_test', verbose = False)"
      ],
      "execution_count": 16,
      "outputs": [
        {
          "output_type": "stream",
          "text": [
            "Final score: 6.5\n"
          ],
          "name": "stdout"
        }
      ]
    },
    {
      "cell_type": "markdown",
      "metadata": {
        "id": "UeggkEvRQ5Y5",
        "colab_type": "text"
      },
      "source": [
        "***\n",
        "***\n",
        "__Question 8__ Implement the DQN training algorithm using a CNN (for example, 2 convolutional layers and one final fully connected layer)."
      ]
    },
    {
      "cell_type": "code",
      "metadata": {
        "id": "HUuFO_65Q5Y5",
        "colab_type": "code",
        "colab": {}
      },
      "source": [
        "class DQN_CNN(DQN):\n",
        "    def __init__(self, *args,lr=0.1,**kwargs):\n",
        "        super(DQN_CNN, self).__init__(*args,**kwargs)\n",
        "        \n",
        "        model = Sequential()\n",
        "        model.add(Conv2D(64,(2,2),input_shape=(5,5,self.n_state,),activation='relu'))\n",
        "        model.add(Conv2D(32,(2,2),activation='relu'))\n",
        "        model.add(Flatten())\n",
        "        model.add(Dense(4))\n",
        "        \n",
        "        model.compile(sgd(lr=lr, decay=1e-4, momentum=0.0), \"mse\")\n",
        "        self.model = model"
      ],
      "execution_count": 0,
      "outputs": []
    },
    {
      "cell_type": "code",
      "metadata": {
        "colab_type": "code",
        "outputId": "846ccdf4-d5e8-4341-ee8d-7dc9bcb98ea0",
        "id": "PPnXPbI_xk8c",
        "colab": {
          "base_uri": "https://localhost:8080/",
          "height": 905
        }
      },
      "source": [
        "env = Environment(grid_size=size, max_time=T, temperature=0.3)\n",
        "agent = DQN_CNN(size, lr=.1, epsilon = 0.1, memory_size=3500, batch_size = 64)\n",
        "train(agent,env,50,prefix='cnn_train')"
      ],
      "execution_count": 14,
      "outputs": [
        {
          "output_type": "stream",
          "text": [
            "Epoch 000/050 | Loss 0.0043 | Win/lose count 5.5/4.0 (1.5)\n",
            "Epoch 001/050 | Loss 0.0041 | Win/lose count 11.0/9.0 (2.0)\n",
            "Epoch 002/050 | Loss 0.0064 | Win/lose count 5.5/2.0 (3.5)\n",
            "Epoch 003/050 | Loss 0.0310 | Win/lose count 10.5/2.0 (8.5)\n",
            "Epoch 004/050 | Loss 0.0022 | Win/lose count 4.0/0 (4.0)\n",
            "Epoch 005/050 | Loss 0.0032 | Win/lose count 2.0/1.0 (1.0)\n",
            "Epoch 006/050 | Loss 0.0015 | Win/lose count 3.0/0 (3.0)\n",
            "Epoch 007/050 | Loss 0.0016 | Win/lose count 6.0/4.0 (2.0)\n",
            "Epoch 008/050 | Loss 0.0020 | Win/lose count 11.5/4.0 (7.5)\n",
            "Epoch 009/050 | Loss 0.0015 | Win/lose count 2.5/4.0 (-1.5)\n",
            "Epoch 010/050 | Loss 0.0021 | Win/lose count 8.5/1.0 (7.5)\n",
            "Epoch 011/050 | Loss 0.0020 | Win/lose count 4.5/0 (4.5)\n",
            "Epoch 012/050 | Loss 0.0029 | Win/lose count 7.5/1.0 (6.5)\n",
            "Epoch 013/050 | Loss 0.0028 | Win/lose count 6.5/2.0 (4.5)\n",
            "Epoch 014/050 | Loss 0.0018 | Win/lose count 7.5/4.0 (3.5)\n",
            "Epoch 015/050 | Loss 0.0017 | Win/lose count 12.0/1.0 (11.0)\n",
            "Epoch 016/050 | Loss 0.0021 | Win/lose count 4.5/2.0 (2.5)\n",
            "Epoch 017/050 | Loss 0.0024 | Win/lose count 13.5/2.0 (11.5)\n",
            "Epoch 018/050 | Loss 0.0283 | Win/lose count 3.5/0 (3.5)\n",
            "Epoch 019/050 | Loss 0.0282 | Win/lose count 17.0/4.0 (13.0)\n",
            "Epoch 020/050 | Loss 0.0264 | Win/lose count 5.0/0 (5.0)\n",
            "Epoch 021/050 | Loss 0.0037 | Win/lose count 13.5/1.0 (12.5)\n",
            "Epoch 022/050 | Loss 0.0255 | Win/lose count 7.5/1.0 (6.5)\n",
            "Epoch 023/050 | Loss 0.0264 | Win/lose count 5.5/1.0 (4.5)\n",
            "Epoch 024/050 | Loss 0.0041 | Win/lose count 12.0/3.0 (9.0)\n",
            "Epoch 025/050 | Loss 0.0265 | Win/lose count 13.5/2.0 (11.5)\n",
            "Epoch 026/050 | Loss 0.0019 | Win/lose count 8.5/4.0 (4.5)\n",
            "Epoch 027/050 | Loss 0.0029 | Win/lose count 13.0/2.0 (11.0)\n",
            "Epoch 028/050 | Loss 0.0023 | Win/lose count 9.0/2.0 (7.0)\n",
            "Epoch 029/050 | Loss 0.0018 | Win/lose count 14.0/5.0 (9.0)\n",
            "Epoch 030/050 | Loss 0.0052 | Win/lose count 16.5/2.0 (14.5)\n",
            "Epoch 031/050 | Loss 0.0295 | Win/lose count 18.0/3.0 (15.0)\n",
            "Epoch 032/050 | Loss 0.0047 | Win/lose count 8.5/3.0 (5.5)\n",
            "Epoch 033/050 | Loss 0.0021 | Win/lose count 23.5/2.0 (21.5)\n",
            "Epoch 034/050 | Loss 0.0067 | Win/lose count 19.0/3.0 (16.0)\n",
            "Epoch 035/050 | Loss 0.0013 | Win/lose count 13.0/1.0 (12.0)\n",
            "Epoch 036/050 | Loss 0.0030 | Win/lose count 15.0/2.0 (13.0)\n",
            "Epoch 037/050 | Loss 0.0269 | Win/lose count 13.0/5.0 (8.0)\n",
            "Epoch 038/050 | Loss 0.0259 | Win/lose count 18.5/5.0 (13.5)\n",
            "Epoch 039/050 | Loss 0.0059 | Win/lose count 11.0/4.0 (7.0)\n",
            "Epoch 040/050 | Loss 0.0030 | Win/lose count 23.0/1.0 (22.0)\n",
            "Epoch 041/050 | Loss 0.0276 | Win/lose count 19.0/6.0 (13.0)\n",
            "Epoch 042/050 | Loss 0.0025 | Win/lose count 26.0/5.0 (21.0)\n",
            "Epoch 043/050 | Loss 0.0035 | Win/lose count 9.5/0 (9.5)\n",
            "Epoch 044/050 | Loss 0.0032 | Win/lose count 14.0/2.0 (12.0)\n",
            "Epoch 045/050 | Loss 0.0027 | Win/lose count 23.5/3.0 (20.5)\n",
            "Epoch 046/050 | Loss 0.0018 | Win/lose count 12.0/3.0 (9.0)\n",
            "Epoch 047/050 | Loss 0.0293 | Win/lose count 20.0/4.0 (16.0)\n",
            "Epoch 048/050 | Loss 0.0020 | Win/lose count 24.0/6.0 (18.0)\n",
            "Epoch 049/050 | Loss 0.0033 | Win/lose count 15.5/1.0 (14.5)\n"
          ],
          "name": "stdout"
        }
      ]
    },
    {
      "cell_type": "markdown",
      "metadata": {
        "id": "4PUWWF_DQ5ZA",
        "colab_type": "text"
      },
      "source": [
        "***\n",
        "***\n",
        "__Question 9__ Test both algorithms and compare their performances. Which issue(s) do you observe? Observe also different behaviors by changing the temperature."
      ]
    },
    {
      "cell_type": "markdown",
      "metadata": {
        "id": "uNlOXUxTNkvW",
        "colab_type": "text"
      },
      "source": [
        "#### Temperature : 0.3"
      ]
    },
    {
      "cell_type": "code",
      "metadata": {
        "id": "bHFwhEItCPSO",
        "colab_type": "code",
        "colab": {
          "base_uri": "https://localhost:8080/",
          "height": 0
        },
        "outputId": "8bc7cba8-427d-4419-e94f-eab8c407fd7d"
      },
      "source": [
        "env = Environment(grid_size=size, max_time=T,temperature=0.3)\n",
        "\n",
        "agent_cnn = DQN_CNN(size, lr=.1, epsilon = 0.1, memory_size=2000, batch_size = 32)\n",
        "agent_cnn.load(name_weights='cnn_trainmodel.h5',name_model='cnn_trainmodel.json')\n",
        "\n",
        "agent_fc = DQN_FC(size, lr=.1, epsilon = 0.1, memory_size=2000, batch_size = 32)\n",
        "agent_fc.load(name_weights='fc_trainmodel.h5',name_model='fc_trainmodel.json')\n",
        "\n",
        "print('Test of the CNN')\n",
        "test(agent_cnn,env,50,prefix='cnn_test', verbose=False)\n",
        "print('Test of the FC')\n",
        "test(agent_fc,env,50,prefix='fc_test', verbose=False)"
      ],
      "execution_count": 25,
      "outputs": [
        {
          "output_type": "stream",
          "text": [
            "Test of the CNN\n",
            "Final score: 8.71\n",
            "Test of the FC\n",
            "Final score: 5.44\n"
          ],
          "name": "stdout"
        }
      ]
    },
    {
      "cell_type": "markdown",
      "metadata": {
        "id": "f32IBV-kQ5ZG",
        "colab_type": "text"
      },
      "source": [
        "####Température : 0.1"
      ]
    },
    {
      "cell_type": "code",
      "metadata": {
        "id": "r5SuXkTqI_fB",
        "colab_type": "code",
        "colab": {
          "base_uri": "https://localhost:8080/",
          "height": 0
        },
        "outputId": "476c356c-db5c-41d8-c96b-78f046c23c0e"
      },
      "source": [
        "env = Environment(grid_size=size, max_time=T,temperature=0.1)\n",
        "agent_cnn = DQN_CNN(size, lr=.1, epsilon = 0.1, memory_size=2000, batch_size = 32)\n",
        "agent_cnn.load(name_weights='cnn_trainmodel.h5',name_model='cnn_trainmodel.json')\n",
        "\n",
        "agent_fc = DQN_FC(size, lr=.1, epsilon = 0.1, memory_size=2000, batch_size = 32)\n",
        "agent_fc.load(name_weights='fc_trainmodel.h5',name_model='fc_trainmodel.json')\n",
        "\n",
        "print('Test of the CNN')\n",
        "test(agent_cnn,env,50,prefix='cnn_test', verbose=False)\n",
        "print('Test of the FC')\n",
        "test(agent_fc,env,50,prefix='fc_test', verbose=False)"
      ],
      "execution_count": 28,
      "outputs": [
        {
          "output_type": "stream",
          "text": [
            "Test of the CNN\n",
            "Final score: 2.79\n",
            "Test of the FC\n",
            "Final score: 1.81\n"
          ],
          "name": "stdout"
        }
      ]
    },
    {
      "cell_type": "markdown",
      "metadata": {
        "id": "_KfdpShqN110",
        "colab_type": "text"
      },
      "source": [
        "####Température : 0.6"
      ]
    },
    {
      "cell_type": "code",
      "metadata": {
        "id": "JYFleL7eJCnj",
        "colab_type": "code",
        "colab": {
          "base_uri": "https://localhost:8080/",
          "height": 87
        },
        "outputId": "0570b2eb-8419-4d94-8354-f46bc6a2459f"
      },
      "source": [
        "env = Environment(grid_size=size, max_time=T,temperature=0.6)\n",
        "agent_cnn = DQN_CNN(size, lr=.1, epsilon = 0.1, memory_size=2000, batch_size = 32)\n",
        "agent_cnn.load(name_weights='cnn_trainmodel.h5',name_model='cnn_trainmodel.json')\n",
        "\n",
        "agent_fc = DQN_FC(size, lr=.1, epsilon = 0.1, memory_size=2000, batch_size = 32)\n",
        "agent_fc.load(name_weights='fc_trainmodel.h5',name_model='fc_trainmodel.json')\n",
        "\n",
        "print('Test of the CNN')\n",
        "test(agent_cnn,env,50,prefix='cnn_test', verbose=False)\n",
        "print('Test of the FC')\n",
        "test(agent_fc,env,50,prefix='fc_test', verbose=False)"
      ],
      "execution_count": 31,
      "outputs": [
        {
          "output_type": "stream",
          "text": [
            "Test of the CNN\n",
            "Final score: 21.45\n",
            "Test of the FC\n",
            "Final score: 14.51\n"
          ],
          "name": "stdout"
        }
      ]
    },
    {
      "cell_type": "markdown",
      "metadata": {
        "id": "EGWgNwDkPIjJ",
        "colab_type": "text"
      },
      "source": [
        "Using a convolutionnal neural network for the gain prediction is much more efficient than fully connected layers. \n",
        "\n",
        "When the temperature increases, there are more cells that yields positive reward and the scores are improved for both models. , but the gap between CNN and FC networks widens.\n",
        "\n",
        "In all cases, the agent often ends up alternating between a few cells and not explore a (sometimes big) part of the environment, even if these cells no longer yield any reward."
      ]
    },
    {
      "cell_type": "markdown",
      "metadata": {
        "id": "ZQcz1mxBQ5ZG",
        "colab_type": "text"
      },
      "source": [
        "***\n",
        "\n",
        "The algorithm tends to not explore the map which can be an issue. We propose two ideas in order to encourage exploration:\n",
        "1. Incorporating a decreasing $\\epsilon$-greedy exploration. You can use the method ```set_epsilon```\n",
        "2. Append via the environment a new state that describes if a cell has been visited or not\n",
        "\n",
        "***\n",
        "__Question 10__ Design a new ```train_explore``` function and environment class ```EnvironmentExploring``` to tackle the issue of exploration.\n",
        "\n"
      ]
    },
    {
      "cell_type": "code",
      "metadata": {
        "id": "aOG8wj_IQ5ZH",
        "colab_type": "code",
        "colab": {}
      },
      "source": [
        "def train_explore(agent,env,epoch,prefix='',eps_decay=0.1, verbose=True, plot=False):\n",
        "    score = 0\n",
        "    loss = 0\n",
        "    scores, wins, losses = [], [], []\n",
        "\n",
        "    for e in range(epoch):\n",
        "        # At each epoch, we restart to a fresh game and get the initial state\n",
        "        state = env.reset()\n",
        "        # This assumes that the games will terminate\n",
        "        game_over = False\n",
        "\n",
        "        win = 0\n",
        "        lose = 0\n",
        "        agent.set_epsilon(agent.epsilon*(1-eps_decay))\n",
        "\n",
        "        while not game_over:\n",
        "            # The agent performs an action\n",
        "            action = agent.act(state)\n",
        "\n",
        "            # Apply an action to the environment, get the next state, the reward\n",
        "            # and if the games end\n",
        "            prev_state = state\n",
        "            state, reward, game_over = env.act(action, train=True)\n",
        "\n",
        "            # Update the counters\n",
        "            if reward > 0:\n",
        "                win = win + reward\n",
        "            if reward < 0:\n",
        "                lose = lose -reward\n",
        "\n",
        "            # Apply the reinforcement strategy\n",
        "            loss = agent.reinforce(prev_state, state,  action, reward, game_over)\n",
        "\n",
        "        # Save as a mp4\n",
        "        if e % 10 == 0:\n",
        "            env.draw(prefix+str(e))\n",
        "\n",
        "        # Update stats\n",
        "        score += win-lose\n",
        "        scores.append(score)\n",
        "        wins.append(win)\n",
        "        losses.append(lose)\n",
        "\n",
        "        if verbose : \n",
        "          print(\"Epoch {:03d}/{:03d} | Loss {:.4f} | Win/lose count {}/{} ({})\"\n",
        "                .format(e, epoch, loss, win, lose, win-lose))\n",
        "        agent.save(name_weights=prefix+'model.h5',name_model=prefix+'model.json')\n",
        "\n",
        "    if plot : \n",
        "      plt.plot(wins, label=\"wins\")\n",
        "      plt.plot(losses, label=\"losses\")\n",
        "      plt.xlabel(\"Epoch\")\n",
        "      plt.legend()\n",
        "      plt.grid()\n",
        "\n",
        "\n",
        "class EnvironmentExploring(object):\n",
        "    def __init__(self, grid_size=10, max_time=500, temperature=0.1, malus_pos=0.1):\n",
        "        grid_size = grid_size+4\n",
        "        self.grid_size = grid_size\n",
        "        self.max_time = max_time\n",
        "        self.temperature = temperature\n",
        "\n",
        "        #board on which one plays\n",
        "        self.board = np.zeros((grid_size,grid_size))\n",
        "        self.position = np.zeros((grid_size,grid_size))\n",
        "        \n",
        "        #board with previously visited cells\n",
        "        self.malus_position = np.zeros((grid_size,grid_size))\n",
        "        self.malus_pos = malus_pos\n",
        "        # coordinate of the cat\n",
        "        self.x = 0\n",
        "        self.y = 1\n",
        "\n",
        "        # self time\n",
        "        self.t = 0\n",
        "\n",
        "        self.scale=16\n",
        "\n",
        "        self.to_draw = np.zeros((max_time+2, grid_size*self.scale, grid_size*self.scale, 3))\n",
        "\n",
        "\n",
        "    def draw(self,e):\n",
        "        skvideo.io.vwrite(str(e) + '.mp4', self.to_draw)\n",
        "\n",
        "    def get_frame(self,t):\n",
        "        b = np.zeros((self.grid_size,self.grid_size,3))+128\n",
        "        b[self.board>0,0] = 256\n",
        "        b[self.board < 0, 2] = 256\n",
        "        b[self.x,self.y,:]=256\n",
        "        b[-2:,:,:]=0\n",
        "        b[:,-2:,:]=0\n",
        "        b[:2,:,:]=0\n",
        "        b[:,:2,:]=0\n",
        "        \n",
        "        b =  cv2.resize(b, None, fx=self.scale, fy=self.scale, interpolation=cv2.INTER_NEAREST)\n",
        "\n",
        "        self.to_draw[t,:,:,:]=b\n",
        "\n",
        "\n",
        "    def act(self, action, train=False):\n",
        "        \"\"\"This function returns the new state, reward and decides if the\n",
        "        game ends.\"\"\"\n",
        "\n",
        "        self.get_frame(int(self.t))\n",
        "\n",
        "        self.position = np.zeros((self.grid_size, self.grid_size))\n",
        "\n",
        "        self.position[0:2,:]= -1\n",
        "        self.position[:,0:2] = -1\n",
        "        self.position[-2:, :] = -1\n",
        "        self.position[-2:, :] = -1\n",
        "\n",
        "        self.position[self.x, self.y] = 1\n",
        "        if action == 0:\n",
        "            if self.x == self.grid_size-3:\n",
        "                self.x = self.x-1\n",
        "            else:\n",
        "                self.x = self.x + 1\n",
        "        elif action == 1:\n",
        "            if self.x == 2:\n",
        "                self.x = self.x+1\n",
        "            else:\n",
        "                self.x = self.x-1\n",
        "        elif action == 2:\n",
        "            if self.y == self.grid_size - 3:\n",
        "                self.y = self.y - 1\n",
        "            else:\n",
        "                self.y = self.y + 1\n",
        "        elif action == 3:\n",
        "            if self.y == 2:\n",
        "                self.y = self.y + 1\n",
        "            else:\n",
        "                self.y = self.y - 1\n",
        "        else:\n",
        "            RuntimeError('Error: action not recognized')\n",
        "\n",
        "        self.t = self.t + 1\n",
        "\n",
        "        reward = 0\n",
        "        if train:\n",
        "            reward = -self.malus_position[self.x, self.y]\n",
        "        self.malus_position[self.x, self.y] = self.malus_pos\n",
        "        reward = reward + self.board[self.x, self.y]\n",
        "\n",
        "        self.board[self.x, self.y] = 0\n",
        "        \n",
        "        game_over = self.t > self.max_time\n",
        "        state = np.concatenate((self.malus_position.reshape(self.grid_size, self.grid_size,1),\n",
        "                                self.board.reshape(self.grid_size, self.grid_size,1),\n",
        "                        self.position.reshape(self.grid_size, self.grid_size,1)),axis=2)\n",
        "        state = state[self.x-2:self.x+3,self.y-2:self.y+3,:]\n",
        "\n",
        "        return state, reward, game_over\n",
        "\n",
        "    def reset(self):\n",
        "        \"\"\"This function resets the game and returns the initial state\"\"\"\n",
        "\n",
        "        self.x = np.random.randint(3, self.grid_size-3, size=1)[0]\n",
        "        self.y = np.random.randint(3, self.grid_size-3, size=1)[0]\n",
        "\n",
        "\n",
        "        bonus = 0.5*np.random.binomial(1,self.temperature,size=self.grid_size**2)\n",
        "        bonus = bonus.reshape(self.grid_size,self.grid_size)\n",
        "\n",
        "        malus = -1.0*np.random.binomial(1,self.temperature,size=self.grid_size**2)\n",
        "        malus = malus.reshape(self.grid_size, self.grid_size)\n",
        "\n",
        "        self.to_draw = np.zeros((self.max_time+2, self.grid_size*self.scale, self.grid_size*self.scale, 3))\n",
        "\n",
        "\n",
        "        malus[bonus>0]=0\n",
        "\n",
        "        self.board = bonus + malus\n",
        "\n",
        "        self.position = np.zeros((self.grid_size, self.grid_size))\n",
        "        self.position[0:2,:]= -1\n",
        "        self.position[:,0:2] = -1\n",
        "        self.position[-2:, :] = -1\n",
        "        self.position[-2:, :] = -1\n",
        "        self.board[self.x,self.y] = 0\n",
        "        self.t = 0\n",
        "        self.malus_position = np.zeros((self.grid_size, self.grid_size))\n",
        "        \n",
        "        state = np.concatenate((self.malus_position.reshape(self.grid_size, self.grid_size,1),\n",
        "                                        self.board.reshape(self.grid_size, self.grid_size,1),\n",
        "                                self.position.reshape(self.grid_size, self.grid_size,1)),axis=2)\n",
        "\n",
        "        state = state[self.x - 2:self.x + 3, self.y - 2:self.y + 3, :]\n",
        "        return state"
      ],
      "execution_count": 0,
      "outputs": []
    },
    {
      "cell_type": "code",
      "metadata": {
        "id": "wjZ2Vyd0R2LG",
        "colab_type": "code",
        "colab": {
          "base_uri": "https://localhost:8080/",
          "height": 923
        },
        "outputId": "fadd465c-27a8-432c-c878-4144b363ae8b"
      },
      "source": [
        "env = EnvironmentExploring(grid_size=size, max_time=T, temperature=0.3)\n",
        "agent = DQN_CNN(size, lr=.1, epsilon = 0.1, memory_size=2000, batch_size = 32,n_state=3)\n",
        "train_explore(agent, env, 50, prefix='cnn_train_explore', verbose=False)\n",
        "test(agent,env,50,prefix='cnn_test_explore')"
      ],
      "execution_count": 34,
      "outputs": [
        {
          "output_type": "stream",
          "text": [
            "Win/lose count 25.0/1.0. Average score (24.0)\n",
            "Win/lose count 20.5/2.0. Average score (21.25)\n",
            "Win/lose count 12.0/0. Average score (18.166666666666668)\n",
            "Win/lose count 9.5/2.0. Average score (15.5)\n",
            "Win/lose count 19.5/3.0. Average score (15.7)\n",
            "Win/lose count 23.0/2.0. Average score (16.583333333333332)\n",
            "Win/lose count 12.0/0. Average score (15.928571428571429)\n",
            "Win/lose count 19.0/1.0. Average score (16.1875)\n",
            "Win/lose count 29.0/2.0. Average score (17.38888888888889)\n",
            "Win/lose count 22.5/1.0. Average score (17.8)\n",
            "Win/lose count 9.5/0. Average score (17.045454545454547)\n",
            "Win/lose count 17.0/0. Average score (17.041666666666668)\n",
            "Win/lose count 10.5/0. Average score (16.53846153846154)\n",
            "Win/lose count 19.5/1.0. Average score (16.678571428571427)\n",
            "Win/lose count 18.0/1.0. Average score (16.7)\n",
            "Win/lose count 20.5/0. Average score (16.9375)\n",
            "Win/lose count 4.5/0. Average score (16.205882352941178)\n",
            "Win/lose count 22.5/3.0. Average score (16.38888888888889)\n",
            "Win/lose count 21.0/1.0. Average score (16.57894736842105)\n",
            "Win/lose count 16.5/3.0. Average score (16.425)\n",
            "Win/lose count 22.5/0. Average score (16.714285714285715)\n",
            "Win/lose count 7.5/0. Average score (16.295454545454547)\n",
            "Win/lose count 15.5/0. Average score (16.26086956521739)\n",
            "Win/lose count 7.0/0. Average score (15.875)\n",
            "Win/lose count 24.0/1.0. Average score (16.16)\n",
            "Win/lose count 15.5/1.0. Average score (16.096153846153847)\n",
            "Win/lose count 8.5/0. Average score (15.814814814814815)\n",
            "Win/lose count 21.0/0. Average score (16.0)\n",
            "Win/lose count 12.5/1.0. Average score (15.844827586206897)\n",
            "Win/lose count 9.5/1.0. Average score (15.6)\n",
            "Win/lose count 13.0/0. Average score (15.516129032258064)\n",
            "Win/lose count 12.5/2.0. Average score (15.359375)\n",
            "Win/lose count 5.5/0. Average score (15.06060606060606)\n",
            "Win/lose count 7.5/1.0. Average score (14.808823529411764)\n",
            "Win/lose count 17.0/2.0. Average score (14.814285714285715)\n",
            "Win/lose count 9.5/1.0. Average score (14.63888888888889)\n",
            "Win/lose count 5.0/0. Average score (14.378378378378379)\n",
            "Win/lose count 16.5/3.0. Average score (14.355263157894736)\n",
            "Win/lose count 13.5/0. Average score (14.333333333333334)\n",
            "Win/lose count 25.5/2.0. Average score (14.5625)\n",
            "Win/lose count 12.0/2.0. Average score (14.451219512195122)\n",
            "Win/lose count 10.5/0. Average score (14.357142857142858)\n",
            "Win/lose count 6.0/2.0. Average score (14.116279069767442)\n",
            "Win/lose count 27.5/1.0. Average score (14.397727272727273)\n",
            "Win/lose count 22.5/3.0. Average score (14.511111111111111)\n",
            "Win/lose count 13.0/0. Average score (14.478260869565217)\n",
            "Win/lose count 6.0/0. Average score (14.297872340425531)\n",
            "Win/lose count 22.0/4.0. Average score (14.375)\n",
            "Win/lose count 24.5/4.0. Average score (14.5)\n",
            "Win/lose count 3.0/0. Average score (14.27)\n",
            "Final score: 14.27\n"
          ],
          "name": "stdout"
        }
      ]
    },
    {
      "cell_type": "markdown",
      "metadata": {
        "id": "MOtOUj0sebss",
        "colab_type": "text"
      },
      "source": [
        "The agent is already a lot better ! To ensure more exploration during the first phase of the training, which is why the initial value for  ϵ  is increased. The  ```eps_decay``` parameter will gradually decrease its value, switching the strategy to a more exploitation strategy.\n",
        "We increase the number of training epochs, to allow the agent to finish its (longer) exploration phase and the method to stabilize."
      ]
    },
    {
      "cell_type": "code",
      "metadata": {
        "id": "UP2p9T2M0bhh",
        "colab_type": "code",
        "colab": {
          "base_uri": "https://localhost:8080/",
          "height": 34
        },
        "outputId": "d4e953e3-e517-4c89-9eba-3e5bb91aeb00"
      },
      "source": [
        "env = EnvironmentExploring(grid_size=size, max_time=T, temperature=0.3)\n",
        "agent = DQN_CNN(size, lr=.1, epsilon = 0.6, memory_size=3500, batch_size = 64,n_state=3)\n",
        "train_explore(agent, env, 200, prefix='cnn_train_explore', verbose=False)\n",
        "test(agent,env,50,prefix='cnn_test_explore', verbose=False)"
      ],
      "execution_count": 40,
      "outputs": [
        {
          "output_type": "stream",
          "text": [
            "Final score: 15.67\n"
          ],
          "name": "stdout"
        }
      ]
    },
    {
      "cell_type": "code",
      "metadata": {
        "id": "pJP8H0cH28dN",
        "colab_type": "code",
        "colab": {
          "base_uri": "https://localhost:8080/",
          "height": 293
        },
        "outputId": "8109811c-d3de-4cab-fd0e-79343619342e"
      },
      "source": [
        "HTML(display_videos(\"cnn_test_explore46.mp4\"))"
      ],
      "execution_count": 48,
      "outputs": [
        {
          "output_type": "execute_result",
          "data": {
            "text/html": [
              "<video alt=\"test\" controls>\n",
              "                <source src=\"data:video/mp4;base64,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\" type=\"video/mp4\" />\n",
              "             </video>"
            ],
            "text/plain": [
              "<IPython.core.display.HTML object>"
            ]
          },
          "metadata": {
            "tags": []
          },
          "execution_count": 48
        }
      ]
    },
    {
      "cell_type": "markdown",
      "metadata": {
        "id": "79z-NZWY0rzg",
        "colab_type": "text"
      },
      "source": [
        "The results have clearly improved. The agent is now less likely to cycle between to cells, and recieves greater rewards overall."
      ]
    },
    {
      "cell_type": "markdown",
      "metadata": {
        "id": "Wd2lcdz8Q5ZN",
        "colab_type": "text"
      },
      "source": [
        "***\n",
        "***\n",
        "__BONUS question__ Use the expert DQN from the previous question to generate some winning games. Train a model that mimicks its behavior. Compare the performances."
      ]
    },
    {
      "cell_type": "markdown",
      "metadata": {
        "id": "F-m1KEmEQ5ZO",
        "colab_type": "text"
      },
      "source": [
        ""
      ]
    },
    {
      "cell_type": "markdown",
      "metadata": {
        "id": "XuWqS6ylQ5ZO",
        "colab_type": "text"
      },
      "source": [
        "***"
      ]
    }
  ]
}